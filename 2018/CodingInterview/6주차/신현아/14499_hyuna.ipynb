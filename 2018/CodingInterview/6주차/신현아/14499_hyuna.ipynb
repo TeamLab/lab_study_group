{
 "cells": [
  {
   "cell_type": "code",
   "execution_count": 24,
   "metadata": {
    "collapsed": false,
    "deletable": true,
    "editable": true
   },
   "outputs": [
    {
     "name": "stdout",
     "output_type": "stream",
     "text": [
      "3 3 0 0 16\n",
      "0 1 2\n",
      "3 4 5\n",
      "6 7 8\n",
      "4 4 1 1 3 3 2 2 4 4 1 1 3 3 2 2\n",
      "0\n",
      "0\n",
      "0\n",
      "6\n",
      "0\n",
      "8\n",
      "0\n",
      "2\n",
      "0\n",
      "8\n",
      "0\n",
      "2\n",
      "0\n",
      "8\n",
      "0\n",
      "2\n"
     ]
    }
   ],
   "source": [
    "nmxyk = list(map(int,input().split()))\n",
    "locations = [list(map(int,input().split())) for i in range(nmxyk[0])]\n",
    "order = list(map(int,input().split()))\n",
    "dice = {\"north\": 0, \"middle\": 0, \"south\": 0, \"head\":0, \"west\": 0, \"east\":0}\n",
    "\n",
    "def dices(nmxyk,locations ,order):\n",
    "    try:\n",
    "        dice[\"middle\"] = locations[nmxyk[3]][nmxyk[2]] \n",
    "        for i in order:\n",
    "            if i == 4 and locations[nmxyk[3]+1][nmxyk[2]]== 0:\n",
    "                dice[\"head\"],dice[\"north\"],dice[\"middle\"],dice[\"south\"] = dice[\"north\"],dice[\"middle\"],dice[\"south\"],dice[\"head\"] \n",
    "                nmxyk[3],nmxyk[2] = nmxyk[3]+1,nmxyk[2]\n",
    "                locations[nmxyk[3]][nmxyk[2]] = dice[\"middle\"]\n",
    "                print(dice[\"head\"])\n",
    "            elif i == 4 and locations[nmxyk[3]+1][nmxyk[2]] != 0:\n",
    "                dice[\"south\"] = locations[nmxyk[3]+1][nmxyk[2]]\n",
    "                dice[\"head\"],dice[\"north\"],dice[\"middle\"],dice[\"south\"] = dice[\"north\"],dice[\"middle\"],dice[\"south\"],dice[\"head\"] \n",
    "                nmxyk[3],nmxyk[2] = nmxyk[3]+1,nmxyk[2]\n",
    "                locations[nmxyk[3]][nmxyk[2]] = 0\n",
    "                print(dice[\"head\"])\n",
    "            elif i == 1  and locations[nmxyk[3]][nmxyk[2]+1] == 0:\n",
    "                dice[\"head\"],dice[\"east\"],dice[\"west\"],dice[\"middle\"] = dice[\"west\"],dice[\"head\"],dice[\"middle\"],dice[\"east\"] \n",
    "                nmxyk[3],nmxyk[2] = nmxyk[3],nmxyk[2]+1\n",
    "                locations[nmxyk[3]][nmxyk[2]] = dice[\"middle\"]\n",
    "                print(dice[\"head\"])\n",
    "            elif i == 1 and locations[nmxyk[3]][nmxyk[2]+1] != 0:\n",
    "                dice[\"east\"] = locations[nmxyk[3]][nmxyk[2]+1]\n",
    "                dice[\"head\"],dice[\"east\"],dice[\"west\"],dice[\"middle\"] = dice[\"west\"],dice[\"head\"],dice[\"middle\"],dice[\"east\"] \n",
    "                nmxyk[3],nmxyk[2] = nmxyk[3],nmxyk[2]+1\n",
    "                locations[nmxyk[3]][nmxyk[2]] = 0\n",
    "                print(dice[\"head\"])\n",
    "            elif i == 3 and nmxyk[3]-1>=0 and locations[nmxyk[3]-1][nmxyk[2]] == 0:\n",
    "                dice[\"head\"],dice[\"north\"],dice[\"middle\"],dice[\"south\"] = dice[\"south\"],dice[\"head\"],dice[\"north\"],dice[\"middle\"] \n",
    "                nmxyk[3],nmxyk[2] = nmxyk[3]-1,nmxyk[2]\n",
    "                locations[nmxyk[3]][nmxyk[2]] = dice[\"middle\"]\n",
    "                print(dice[\"head\"])\n",
    "            elif i == 3 and nmxyk[3]-1>=0 and locations[nmxyk[3]-1][nmxyk[2]] != 0:\n",
    "                dice[\"north\"] = locations[nmxyk[3]-1][nmxyk[2]]\n",
    "                dice[\"head\"],dice[\"north\"],dice[\"middle\"],dice[\"south\"] = dice[\"south\"],dice[\"head\"],dice[\"north\"],dice[\"middle\"] \n",
    "                nmxyk[3],nmxyk[2] = nmxyk[3]-1,nmxyk[2]\n",
    "                locations[nmxyk[3]][nmxyk[2]] = 0\n",
    "                print(dice[\"head\"])\n",
    "            elif i == 2and nmxyk[2]-1>=0 and locations[nmxyk[3]][nmxyk[2]-1] == 0:\n",
    "                dice[\"head\"],dice[\"east\"],dice[\"west\"],dice[\"middle\"] = dice[\"east\"],dice[\"middle\"],dice[\"head\"],dice[\"west\"] \n",
    "                nmxyk[3],nmxyk[2] = nmxyk[3],nmxyk[2]-1\n",
    "                locations[nmxyk[3]][nmxyk[2]] = dice[\"middle\"]\n",
    "                print(dice[\"head\"])\n",
    "            elif i == 2 and nmxyk[2]-1>=0 and locations[nmxyk[3]][nmxyk[2]-1] != 0:\n",
    "                dice[\"west\"] = locations[nmxyk[3]][nmxyk[2]-1]\n",
    "                dice[\"head\"],dice[\"east\"],dice[\"west\"],dice[\"middle\"] = dice[\"east\"],dice[\"middle\"],dice[\"head\"],dice[\"west\"] \n",
    "                nmxyk[3],nmxyk[2] = nmxyk[3],nmxyk[2]-1\n",
    "                locations[nmxyk[3]][nmxyk[2]] = 0\n",
    "                print(dice[\"head\"])\n",
    "            else: \n",
    "                pass\n",
    "    except IndexError:\n",
    "        pass\n",
    "dices(nmxyk,locations,order)"
   ]
  }
 ],
 "metadata": {
  "kernelspec": {
   "display_name": "Python 3",
   "language": "python",
   "name": "python3"
  },
  "language_info": {
   "codemirror_mode": {
    "name": "ipython",
    "version": 3
   },
   "file_extension": ".py",
   "mimetype": "text/x-python",
   "name": "python",
   "nbconvert_exporter": "python",
   "pygments_lexer": "ipython3",
   "version": "3.6.0"
  }
 },
 "nbformat": 4,
 "nbformat_minor": 2
}
