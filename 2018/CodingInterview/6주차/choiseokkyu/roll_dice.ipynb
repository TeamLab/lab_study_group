{
 "cells": [
  {
   "cell_type": "code",
   "execution_count": 40,
   "metadata": {},
   "outputs": [],
   "source": [
    "def roll_dice(map_size, location, space, orders):\n",
    "    dice_ew = [0,0]\n",
    "    dice_ns = [0,0]\n",
    "    dice_tb = [0,0]\n",
    "    for order in orders:\n",
    "        if order==\"1\":\n",
    "            if location[1] < map_size[1] -1:\n",
    "                location[1] += 1\n",
    "                dice_ew.reverse()\n",
    "                a = dice_ew\n",
    "                dice_ew = dice_tb\n",
    "                dice_tb = a\n",
    "                if space[location[0]][location[1]] != 0:\n",
    "                    dice_tb[1] = space[location[0]][location[1]]\n",
    "                    space[location[0]][location[1]] = 0\n",
    "                    print(dice_tb[0])\n",
    "                else:\n",
    "                    space[location[0]][location[1]] = dice_tb[1]\n",
    "                    print(dice_tb[0])\n",
    "            else:\n",
    "                continue\n",
    "        elif order == \"2\":\n",
    "            if location[1] > 0:\n",
    "                location[1] -= 1\n",
    "                dice_tb.reverse()\n",
    "                a = dice_ew\n",
    "                dice_ew = dice_tb\n",
    "                dice_tb = a\n",
    "                if space[location[0]][location[1]] != 0:\n",
    "                    dice_tb[1] = space[location[0]][location[1]]\n",
    "                    space[location[0]][location[1]] = 0\n",
    "                    print(dice_tb[0])\n",
    "                else:\n",
    "                    space[location[0]][location[1]] = dice_tb[1]\n",
    "                    print(dice_tb[0])\n",
    "            else:\n",
    "                continue\n",
    "        elif order == \"3\":\n",
    "            if location[0] > 0 :\n",
    "                location[0] -= 1\n",
    "                dice_ns.reverse()\n",
    "                a = dice_ns\n",
    "                dice_ns = dice_tb\n",
    "                dice_tb = a\n",
    "                if space[location[0]][location[1]] != 0:\n",
    "                    dice_tb[1] = space[location[0]][location[1]]\n",
    "                    space[location[0]][location[1]] = 0\n",
    "                    print(dice_tb[0])\n",
    "                else:\n",
    "                    space[location[0]][location[1]] = dice_tb[1]\n",
    "                    print(dice_tb[0])\n",
    "            else:\n",
    "                continue\n",
    "        elif order == \"4\":\n",
    "            if location[0] < map_size[0]-1:\n",
    "                location[0] += 1\n",
    "                dice_tb.reverse()\n",
    "                a = dice_ns\n",
    "                dice_ns = dice_tb\n",
    "                dice_tb = a\n",
    "                if space[location[0]][location[1]] != 0:\n",
    "                    dice_tb[1] = space[location[0]][location[1]]\n",
    "                    space[location[0]][location[1]] = 0\n",
    "                    print(dice_tb[0])\n",
    "                else:\n",
    "                    space[location[0]][location[1]] = dice_tb[1]\n",
    "                    print(dice_tb[0])\n",
    "            else:\n",
    "                continue\n",
    "                    "
   ]
  },
  {
   "cell_type": "code",
   "execution_count": 39,
   "metadata": {},
   "outputs": [
    {
     "name": "stdout",
     "output_type": "stream",
     "text": [
      "2 2 0 0 16\n",
      "0 2\n",
      "3 4\n",
      "4 4 4 4 1 1 1 1 3 3 3 3 2 2 2 2\n",
      "0\n",
      "[0, 0, 0, 0, 0, 3]\n",
      "0\n",
      "[0, 3, 0, 0, 0, 4]\n",
      "0\n",
      "[0, 3, 0, 4, 0, 2]\n",
      "0\n",
      "[2, 0, 0, 4, 0, 3]\n"
     ]
    }
   ],
   "source": [
    "first_input = list(map(int,input().split()))\n",
    "map_size = [first_input[0],first_input[1]]\n",
    "location = [first_input[2],first_input[3]]\n",
    "space = []\n",
    "for i in range(map_size[0]):\n",
    "    sp = list(map(int,input().split()))\n",
    "    space.append(sp)\n",
    "orders = list(input().split())\n",
    "roll_dice(map_size, location, space, orders)"
   ]
  },
  {
   "cell_type": "code",
   "execution_count": 41,
   "metadata": {},
   "outputs": [
    {
     "name": "stdout",
     "output_type": "stream",
     "text": [
      "4 2 0 0 8\n",
      "0 2\n",
      "3 4\n",
      "5 6\n",
      "7 8\n",
      "4 4 4 1 3 3 3 2\n",
      "0\n",
      "0\n",
      "3\n",
      "0\n",
      "0\n",
      "8\n",
      "6\n",
      "3\n"
     ]
    }
   ],
   "source": [
    "first_input = list(map(int,input().split()))\n",
    "map_size = [first_input[0],first_input[1]]\n",
    "location = [first_input[2],first_input[3]]\n",
    "space = []\n",
    "for i in range(map_size[0]):\n",
    "    sp = list(map(int,input().split()))\n",
    "    space.append(sp)\n",
    "orders = list(input().split())\n",
    "roll_dice(map_size, location, space, orders)"
   ]
  },
  {
   "cell_type": "code",
   "execution_count": 42,
   "metadata": {},
   "outputs": [
    {
     "name": "stdout",
     "output_type": "stream",
     "text": [
      "3 3 1 1 9\n",
      "1 2 3\n",
      "4 0 5\n",
      "6 7 8\n",
      "1 3 2 2 4 4 1 1 3\n",
      "0\n",
      "0\n",
      "0\n",
      "3\n",
      "0\n",
      "1\n",
      "0\n",
      "6\n",
      "0\n"
     ]
    }
   ],
   "source": [
    "first_input = list(map(int,input().split()))\n",
    "map_size = [first_input[0],first_input[1]]\n",
    "location = [first_input[2],first_input[3]]\n",
    "space = []\n",
    "for i in range(map_size[0]):\n",
    "    sp = list(map(int,input().split()))\n",
    "    space.append(sp)\n",
    "orders = list(input().split())\n",
    "roll_dice(map_size, location, space, orders)"
   ]
  },
  {
   "cell_type": "code",
   "execution_count": 43,
   "metadata": {},
   "outputs": [
    {
     "name": "stdout",
     "output_type": "stream",
     "text": [
      "3 3 0 0 16\n",
      "0 1 2\n",
      "3 4 5\n",
      "6 7 8\n",
      "4 4 1 1 3 3 2 2 4 4 1 1 3 3 2 2\n",
      "0\n",
      "0\n",
      "0\n",
      "6\n",
      "0\n",
      "8\n",
      "0\n",
      "2\n",
      "0\n",
      "8\n",
      "0\n",
      "2\n",
      "0\n",
      "8\n",
      "0\n",
      "2\n"
     ]
    }
   ],
   "source": [
    "first_input = list(map(int,input().split()))\n",
    "map_size = [first_input[0],first_input[1]]\n",
    "location = [first_input[2],first_input[3]]\n",
    "space = []\n",
    "for i in range(map_size[0]):\n",
    "    sp = list(map(int,input().split()))\n",
    "    space.append(sp)\n",
    "orders = list(input().split())\n",
    "roll_dice(map_size, location, space, orders)"
   ]
  }
 ],
 "metadata": {
  "kernelspec": {
   "display_name": "Python 3",
   "language": "python",
   "name": "python3"
  },
  "language_info": {
   "codemirror_mode": {
    "name": "ipython",
    "version": 3
   },
   "file_extension": ".py",
   "mimetype": "text/x-python",
   "name": "python",
   "nbconvert_exporter": "python",
   "pygments_lexer": "ipython3",
   "version": "3.5.4"
  }
 },
 "nbformat": 4,
 "nbformat_minor": 2
}
