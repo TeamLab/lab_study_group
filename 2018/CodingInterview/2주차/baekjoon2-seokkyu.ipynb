{
 "cells": [
  {
   "cell_type": "code",
   "execution_count": 2,
   "metadata": {},
   "outputs": [
    {
     "name": "stdout",
     "output_type": "stream",
     "text": [
      "5 3\n",
      "1 1 1 2 2\n",
      "2 1 1 1 1\n",
      "3 1 1 1 1\n",
      "2 2 2 2 2\n",
      "3 2 2 2 2\n",
      "0.0\n",
      "(6, [[1, 1, 1, 2, 2], [2, 1, 1, 1, 1], [2, 2, 2, 2, 2], [3, 2, 2, 2, 2], [1, 1, 1, 2, 2], [1, 1, 1, 2, 2]])\n"
     ]
    }
   ],
   "source": [
    "import time\n",
    "def find_path(n,l,all_path):\n",
    "    start_time = time.time()\n",
    "    result= []\n",
    "    paths = []\n",
    "    go_down = 0\n",
    "    for path in all_path:\n",
    "        floor = path[0]\n",
    "        \n",
    "        for i in range(len(path)):\n",
    "            if sum(path)/n == path[0]:\n",
    "                go_down = 0\n",
    "                floor = 0\n",
    "                result.append(True)\n",
    "                paths.append(path)\n",
    "                break\n",
    "            if i == 0:\n",
    "                continue\n",
    "            if i == n-1:\n",
    "                go_down = 0\n",
    "                floor = 0\n",
    "                result.append(True)\n",
    "                paths.append(path)\n",
    "                break \n",
    "            if i != 0:\n",
    "                if path[i] == path[i+1] and path[i-1] == path[i]:\n",
    "                    continue\n",
    "                if path[i] == floor:\n",
    "                    continue\n",
    "                #내려가기\n",
    "                if path[i] < floor:\n",
    "                    if floor-path[i] >= 2:\n",
    "                        break\n",
    "                    if (i+l-1) > n-1:\n",
    "                        break\n",
    "                    else:\n",
    "                        if sum(path[i:i+l])/ l != path[i]:\n",
    "                            break\n",
    "                        else:\n",
    "                            floor = path[i]\n",
    "                            go_down = i\n",
    "                            continue\n",
    "                #올라가기\n",
    "                if path[i] > floor:\n",
    "                    if path[i] - floor >= 2:\n",
    "                        break\n",
    "                    if i-l < 0:\n",
    "                        break\n",
    "                    else:\n",
    "                        if go_down > 0:\n",
    "                            if i-go_down < l*2:\n",
    "                                go_down = 0\n",
    "                                break\n",
    "                        if go_down == 0:\n",
    "                            if sum(path[i-l:i])/l != path[i-l]:\n",
    "                                break\n",
    "                            else:\n",
    "                                floor = path[i]\n",
    "                                continue\n",
    "    finish_time = time.time()\n",
    "    print(finish_time - start_time)\n",
    "    return sum(result), paths\n",
    "                        \n",
    "                    \n",
    "                        \n",
    "            \n",
    "    \n",
    "n,l = list(map(int,input().split()))\n",
    "all_path = []\n",
    "for i in range(n):\n",
    "    path = list(map(int,input().split()))\n",
    "    all_path.append(path)\n",
    "all_path2 = [list(x) for x in zip(*all_path)]\n",
    "all_path = all_path + all_path2\n",
    "print(find_path(n,l,all_path))"
   ]
  },
  {
   "cell_type": "code",
   "execution_count": 5,
   "metadata": {},
   "outputs": [
    {
     "name": "stdout",
     "output_type": "stream",
     "text": [
      "6 2\n",
      "3 2 1 1 2 3\n",
      "3 2 2 1 2 3\n",
      "3 2 2 2 3 3\n",
      "3 3 3 3 3 3\n",
      "3 3 3 3 2 2\n",
      "3 3 3 3 2 2\n",
      "0.0\n",
      "(7, [[3, 3, 3, 3, 3, 3], [3, 3, 3, 3, 2, 2], [3, 3, 3, 3, 2, 2], [3, 3, 3, 3, 3, 3], [2, 2, 2, 3, 3, 3], [2, 2, 3, 3, 2, 2], [3, 3, 3, 3, 2, 2]])\n"
     ]
    }
   ],
   "source": [
    "n,l = list(map(int,input().split()))\n",
    "all_path = []\n",
    "for i in range(n):\n",
    "    path = list(map(int,input().split()))\n",
    "    all_path.append(path)\n",
    "all_path2 = [list(x) for x in zip(*all_path)]\n",
    "all_path = all_path + all_path2\n",
    "print(find_path(n,l,all_path))"
   ]
  },
  {
   "cell_type": "code",
   "execution_count": 6,
   "metadata": {},
   "outputs": [
    {
     "name": "stdout",
     "output_type": "stream",
     "text": [
      "6 3\n",
      "3 2 1 1 2 3\n",
      "3 2 2 1 2 3\n",
      "3 2 2 2 3 3\n",
      "3 3 3 3 3 3\n",
      "3 3 3 3 2 2\n",
      "3 3 3 3 2 2\n",
      "0.0\n",
      "(3, [[3, 3, 3, 3, 3, 3], [3, 3, 3, 3, 3, 3], [2, 2, 2, 3, 3, 3]])\n"
     ]
    }
   ],
   "source": [
    "n,l = list(map(int,input().split()))\n",
    "all_path = []\n",
    "for i in range(n):\n",
    "    path = list(map(int,input().split()))\n",
    "    all_path.append(path)\n",
    "all_path2 = [list(x) for x in zip(*all_path)]\n",
    "all_path = all_path + all_path2\n",
    "print(find_path(n,l,all_path))"
   ]
  },
  {
   "cell_type": "code",
   "execution_count": 7,
   "metadata": {},
   "outputs": [
    {
     "name": "stdout",
     "output_type": "stream",
     "text": [
      "6 1\n",
      "3 2 1 1 2 3\n",
      "3 2 2 1 2 3\n",
      "3 2 2 2 3 3\n",
      "3 3 3 3 3 3\n",
      "3 3 3 3 2 2\n",
      "3 3 3 3 2 2\n",
      "0.0\n",
      "(11, [[3, 2, 1, 1, 2, 3], [3, 2, 2, 2, 3, 3], [3, 3, 3, 3, 3, 3], [3, 3, 3, 3, 2, 2], [3, 3, 3, 3, 2, 2], [3, 3, 3, 3, 3, 3], [2, 2, 2, 3, 3, 3], [1, 2, 2, 3, 3, 3], [1, 1, 2, 3, 3, 3], [2, 2, 3, 3, 2, 2], [3, 3, 3, 3, 2, 2]])\n"
     ]
    }
   ],
   "source": [
    "n,l = list(map(int,input().split()))\n",
    "all_path = []\n",
    "for i in range(n):\n",
    "    path = list(map(int,input().split()))\n",
    "    all_path.append(path)\n",
    "all_path2 = [list(x) for x in zip(*all_path)]\n",
    "all_path = all_path + all_path2\n",
    "print(find_path(n,l,all_path))"
   ]
  }
 ],
 "metadata": {
  "kernelspec": {
   "display_name": "Python 3",
   "language": "python",
   "name": "python3"
  },
  "language_info": {
   "codemirror_mode": {
    "name": "ipython",
    "version": 3
   },
   "file_extension": ".py",
   "mimetype": "text/x-python",
   "name": "python",
   "nbconvert_exporter": "python",
   "pygments_lexer": "ipython3",
   "version": "3.6.3"
  }
 },
 "nbformat": 4,
 "nbformat_minor": 2
}
