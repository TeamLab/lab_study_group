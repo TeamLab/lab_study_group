{
 "cells": [
  {
   "cell_type": "code",
   "execution_count": 1,
   "metadata": {
    "collapsed": false,
    "deletable": true,
    "editable": true
   },
   "outputs": [
    {
     "name": "stdout",
     "output_type": "stream",
     "text": [
      "8\n",
      "0 5 4 5 4 5 4 5\n",
      "4 0 5 1 2 3 4 5\n",
      "9 8 0 1 2 3 1 2\n",
      "9 9 9 0 9 9 9 9\n",
      "1 1 1 1 0 1 1 1\n",
      "8 7 6 5 4 0 3 2\n",
      "9 1 9 1 9 1 0 9\n",
      "6 5 4 3 2 1 9 0\n",
      "1\n"
     ]
    }
   ],
   "source": [
    "import itertools\n",
    "n = int(input())\n",
    "s = [list(map(int,input().split()))for i in range(n)]\n",
    "\n",
    "def ability(n,s):\n",
    "    minus = []\n",
    "    s1 = []\n",
    "    s2 = []\n",
    "    numbers = {i for i in range(n)} \n",
    "    combinated = list(itertools.combinations(numbers,int(n/2)))\n",
    "\n",
    "    for i in combinated:\n",
    "        team2 = list(numbers-{*i})\n",
    "        team1 = list({*i})\n",
    "        permutated1 = list(itertools.combinations(team1,2))\n",
    "        permutated2 = list(itertools.combinations(team2,2))\n",
    "        semis1 = []\n",
    "        semis2 = []\n",
    "\n",
    "        for k in range(len(permutated1)) :\n",
    "            semis1.append(s[permutated1[k][0]][permutated1[k][1]] + s[permutated1[k][1]][permutated1[k][0]])\n",
    "            semis2.append(s[permutated2[k][0]][permutated2[k][1]] + s[permutated2[k][1]][permutated2[k][0]])\n",
    "        s1.append(sum(semis1))\n",
    "        s2.append(sum(semis2))\n",
    "    \n",
    "    for i in range(len(s1)):\n",
    "        minus.append(abs(s1[i]-s2[i]))\n",
    "        \n",
    "    return min(minus)\n",
    "print(ability(n,s))"
   ]
  }
 ],
 "metadata": {
  "kernelspec": {
   "display_name": "Python 3",
   "language": "python",
   "name": "python3"
  },
  "language_info": {
   "codemirror_mode": {
    "name": "ipython",
    "version": 3
   },
   "file_extension": ".py",
   "mimetype": "text/x-python",
   "name": "python",
   "nbconvert_exporter": "python",
   "pygments_lexer": "ipython3",
   "version": "3.6.0"
  }
 },
 "nbformat": 4,
 "nbformat_minor": 2
}
