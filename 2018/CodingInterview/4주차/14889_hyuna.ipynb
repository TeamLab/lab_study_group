{
 "cells": [
  {
   "cell_type": "code",
   "execution_count": 64,
   "metadata": {
    "collapsed": false,
    "deletable": true,
    "editable": true
   },
   "outputs": [
    {
     "name": "stdout",
     "output_type": "stream",
     "text": [
      "8\n",
      "0 5 4 5 4 5 4 5\n",
      "4 0 5 1 2 3 4 5\n",
      "9 8 0 1 2 3 1 2\n",
      "9 9 9 0 9 9 9 9\n",
      "1 1 1 1 0 1 1 1\n",
      "8 7 6 5 4 0 3 2\n",
      "9 1 9 1 9 1 0 9\n",
      "6 5 4 3 2 1 9 0\n",
      "1\n"
     ]
    }
   ],
   "source": [
    "import itertools\n",
    "n = int(input())\n",
    "s = [list(map(int,input().split()))for i in range(n)]\n",
    "\n",
    "def ability(n,s):\n",
    "    minus = []\n",
    "    s1 = []\n",
    "    s2 = []\n",
    "    numbers = {i for i in range(n)} \n",
    "    combinated = list(itertools.combinations(numbers,int(n/2)))\n",
    "    for i in combinated:\n",
    "        team2 = list(numbers-{*i})\n",
    "        team1 = list({*i})\n",
    "        permutated1 = list(itertools.combinations(team1,2))\n",
    "        permutated2 = list(itertools.combinations(team2,2))\n",
    "        semis1 = []\n",
    "        semis2 = []\n",
    "        for k in range(len(permutated1)) :\n",
    "            semis1.append(s[permutated1[k][0]][permutated1[k][1]] + s[permutated1[k][1]][permutated1[k][0]])\n",
    "            semis2.append(s[permutated2[k][0]][permutated2[k][1]] + s[permutated2[k][1]][permutated2[k][0]])\n",
    "        s1.append(sum(semis1))\n",
    "        s2.append(sum(semis2))\n",
    "    for i in range(len(s1)):\n",
    "        minus.append(abs(s1[i]-s2[i]))\n",
    "    return min(minus)\n",
    "print(ability(n,s))"
   ]
  },
  {
   "cell_type": "code",
   "execution_count": 13,
   "metadata": {
    "collapsed": false,
    "deletable": true,
    "editable": true
   },
   "outputs": [
    {
     "name": "stdout",
     "output_type": "stream",
     "text": [
      "8\n",
      "0 5 4 5 4 5 4 5\n",
      "4 0 5 1 2 3 4 5\n",
      "9 8 0 1 2 3 1 2\n",
      "9 9 9 0 9 9 9 9\n",
      "1 1 1 1 0 1 1 1\n",
      "8 7 6 5 4 0 3 2\n",
      "9 1 9 1 9 1 0 9\n",
      "6 5 4 3 2 1 9 0\n",
      "1\n"
     ]
    }
   ],
   "source": [
    "print(ability())"
   ]
  },
  {
   "cell_type": "code",
   "execution_count": 61,
   "metadata": {
    "collapsed": false,
    "deletable": true,
    "editable": true,
    "scrolled": true
   },
   "outputs": [
    {
     "name": "stdout",
     "output_type": "stream",
     "text": [
      "[18, 14, 10, 6, 10, 6, 2, 2, 2, 6, 6, 2, 2, 2, 6, 10, 6, 10, 14, 18]\n",
      "2\n"
     ]
    }
   ],
   "source": [
    "import itertools\n",
    "# n = int(8) #ans =1\n",
    "# s =  [[0, 5, 4, 5, 4, 5, 4, 5], [4, 0, 5, 1, 2, 3, 4, 5], [9, 8, 0, 1, 2, 3, 1, 2], [9, 9, 9, 0, 9, 9, 9, 9], [1, 1, 1, 1, 0, 1, 1, 1], [8, 7, 6, 5, 4, 0, 3, 2], [9, 1, 9, 1, 9, 1, 0, 9], [6, 5, 4, 3, 2, 1, 9, 0]]\n",
    "\n",
    "# n = int(4) #ans = 0\n",
    "# s = [[0, 1, 2, 3], [4, 0, 5, 6], [7, 1, 0, 2], [3, 4, 5, 0]]\n",
    "\n",
    "n = int(6) #ans = 2\n",
    "s = [[0, 1, 2, 3, 4, 5], [1, 0, 2, 3, 4, 5], [1, 2, 0, 3, 4, 5], [1, 2, 3, 0, 4, 5], [1, 2, 3, 4, 0, 5], [1, 2, 3, 4, 5, 0]]\n",
    "\n",
    "minus = []\n",
    "s1 = []\n",
    "s2 = []\n",
    "numbers = {i for i in range(n)} \n",
    "combinated = list(itertools.combinations(numbers,int(n/2)))\n",
    "for i in combinated:\n",
    "    team2 = list(numbers-{*i})\n",
    "    team1 = list({*i})\n",
    "    permutated1 = list(itertools.combinations(team1,2))\n",
    "    permutated2 = list(itertools.combinations(team2,2))\n",
    "#     print(permutated1)\n",
    "    semis1 = []\n",
    "    semis2 = []\n",
    "    for k in range(len(permutated1)) :\n",
    "        semis1.append(s[permutated1[k][0]][permutated1[k][1]] + s[permutated1[k][1]][permutated1[k][0]])\n",
    "        semis2.append(s[permutated2[k][0]][permutated2[k][1]] + s[permutated2[k][1]][permutated2[k][0]])\n",
    "    s1.append(sum(semis1))\n",
    "    s2.append(sum(semis2))\n",
    "for i in range(len(s1)):\n",
    "    minus.append(abs(s1[i]-s2[i]))\n",
    "print(minus)\n",
    "print(min(minus))"
   ]
  },
  {
   "cell_type": "code",
   "execution_count": 50,
   "metadata": {
    "collapsed": false,
    "deletable": true,
    "editable": true
   },
   "outputs": [
    {
     "name": "stdout",
     "output_type": "stream",
     "text": [
      "range(0, 10)\n"
     ]
    }
   ],
   "source": [
    "a = range(10)\n",
    "print(a)"
   ]
  },
  {
   "cell_type": "code",
   "execution_count": 20,
   "metadata": {
    "collapsed": false,
    "deletable": true,
    "editable": true
   },
   "outputs": [
    {
     "name": "stdout",
     "output_type": "stream",
     "text": [
      "[1, 2, 3, 3, 4, 5]\n"
     ]
    }
   ],
   "source": [
    "print(list(combination([0, 1, 2, 3],2)))"
   ]
  },
  {
   "cell_type": "code",
   "execution_count": 92,
   "metadata": {
    "collapsed": false,
    "deletable": true,
    "editable": true
   },
   "outputs": [
    {
     "name": "stdout",
     "output_type": "stream",
     "text": [
      "1\n",
      "[0, 1, 2, 4]\n",
      "[(0, 1), (0, 2), (0, 4), (1, 2), (1, 4), (2, 4)]\n",
      "[(0, 1), (0, 2), (0, 4), (1, 0), (1, 2), (1, 4), (2, 0), (2, 1), (2, 4), (4, 0), (4, 1), (4, 2)]\n"
     ]
    }
   ],
   "source": [
    "a = {i for i in range(8)}\n",
    "b = {1,2,3,4}\n",
    "list(b)[0]\n",
    "c = [(0, 1), (0, 2), (0, 3), (1, 0), (1, 2), (1, 3), (2, 0), (2, 1), (2, 3), (3, 0), (3, 1), (3, 2)]\n",
    "print(c[0][1])\n",
    "d = [[0, 1, 2, 3], [0, 1, 2, 4], [0, 1, 2, 5], [0, 1, 2, 6], [0, 1, 2, 7], [0, 1, 3, 4], [0, 1, 3, 5], [0, 1, 3, 6], [0, 1, 3, 7], [0, 1, 4, 5], [0, 1, 4, 6], [0, 1, 4, 7], [0, 1, 5, 6], [0, 1, 5, 7], [0, 1, 6, 7], [0, 2, 3, 4], [0, 2, 3, 5], [0, 2, 3, 6], [0, 2, 3, 7], [0, 2, 4, 5], [0, 2, 4, 6], [0, 2, 4, 7], [0, 2, 5, 6], [0, 2, 5, 7], [0, 2, 6, 7], [0, 3, 4, 5], [0, 3, 4, 6], [0, 3, 4, 7], [0, 3, 5, 6], [0, 3, 5, 7], [0, 3, 6, 7], [0, 4, 5, 6], [0, 4, 5, 7], [0, 4, 6, 7], [0, 5, 6, 7], [1, 2, 3, 4], [1, 2, 3, 5], [1, 2, 3, 6], [1, 2, 3, 7], [1, 2, 4, 5], [1, 2, 4, 6], [1, 2, 4, 7], [1, 2, 5, 6], [1, 2, 5, 7], [1, 2, 6, 7], [1, 3, 4, 5], [1, 3, 4, 6], [1, 3, 4, 7], [1, 3, 5, 6], [1, 3, 5, 7], [1, 3, 6, 7], [1, 4, 5, 6], [1, 4, 5, 7], [1, 4, 6, 7], [1, 5, 6, 7], [2, 3, 4, 5], [2, 3, 4, 6], [2, 3, 4, 7], [2, 3, 5, 6], [2, 3, 5, 7], [2, 3, 6, 7], [2, 4, 5, 6], [2, 4, 5, 7], [2, 4, 6, 7], [2, 5, 6, 7], [3, 4, 5, 6], [3, 4, 5, 7], [3, 4, 6, 7], [3, 5, 6, 7], [4, 5, 6, 7]]\n",
    "print(d[1])\n",
    "print(list(itertools.combinations(d[1],2)))\n",
    "print(list(itertools.permutations(d[1],2)))\n",
    "# e = (0,1)\n",
    "# print(e[0])"
   ]
  }
 ],
 "metadata": {
  "kernelspec": {
   "display_name": "Python 3",
   "language": "python",
   "name": "python3"
  },
  "language_info": {
   "codemirror_mode": {
    "name": "ipython",
    "version": 3
   },
   "file_extension": ".py",
   "mimetype": "text/x-python",
   "name": "python",
   "nbconvert_exporter": "python",
   "pygments_lexer": "ipython3",
   "version": "3.6.0"
  }
 },
 "nbformat": 4,
 "nbformat_minor": 2
}
