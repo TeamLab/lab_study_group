{
 "cells": [
  {
   "cell_type": "code",
   "execution_count": 1,
   "metadata": {},
   "outputs": [
    {
     "name": "stdout",
     "output_type": "stream",
     "text": [
      "6\n",
      "0 1 2 3 4 5\n",
      "1 0 2 3 4 5\n",
      "1 2 0 3 4 5\n",
      "1 2 3 0 4 5\n",
      "1 2 3 4 0 5\n",
      "1 2 3 4 5 0\n"
     ]
    },
    {
     "data": {
      "text/plain": [
       "2"
      ]
     },
     "execution_count": 1,
     "metadata": {},
     "output_type": "execute_result"
    }
   ],
   "source": [
    "from itertools import permutations, combinations\n",
    "def cal(li):\n",
    "    value = 0\n",
    "    for first,second in list(permutations(li,2)):\n",
    "        value = value + ability[first][second]\n",
    "    return value\n",
    "def start_link(n,ability):\n",
    "    num_list = [i for i in range(n)]\n",
    "    one = list(set(combinations(num_list,n//2)))\n",
    "    two = list(permutations(one,2))\n",
    "    double = two[:]\n",
    "    for tdx in range(len(two)):\n",
    "        for num in two[tdx][0]:\n",
    "            if num in two[tdx][1]:\n",
    "                idx = double.index(two[tdx])\n",
    "                del double[idx]\n",
    "                break\n",
    "    final=[]\n",
    "    for teams in double:\n",
    "        result=[]\n",
    "        for team in teams:\n",
    "            result.append(cal(team))\n",
    "        final.append(abs(result[0]-result[1]))\n",
    "    return min(final)\n",
    "\n",
    "n = int(input())\n",
    "ability = []\n",
    "for i in range(n):\n",
    "    ab = list(map(int,input().split()))\n",
    "    ability.append(ab)\n",
    "start_link(n,ability)"
   ]
  },
  {
   "cell_type": "code",
   "execution_count": 2,
   "metadata": {},
   "outputs": [
    {
     "name": "stdout",
     "output_type": "stream",
     "text": [
      "4\n",
      "0 1 2 3\n",
      "4 0 5 6\n",
      "7 1 0 2\n",
      "3 4 5 0\n"
     ]
    },
    {
     "data": {
      "text/plain": [
       "0"
      ]
     },
     "execution_count": 2,
     "metadata": {},
     "output_type": "execute_result"
    }
   ],
   "source": [
    "n = int(input())\n",
    "ability = []\n",
    "for i in range(n):\n",
    "    ab = list(map(int,input().split()))\n",
    "    ability.append(ab)\n",
    "start_link(n,ability)"
   ]
  },
  {
   "cell_type": "code",
   "execution_count": 3,
   "metadata": {},
   "outputs": [
    {
     "name": "stdout",
     "output_type": "stream",
     "text": [
      "8\n",
      "0 5 4 5 4 5 4 5\n",
      "4 0 5 1 2 3 4 5\n",
      "9 8 0 1 2 3 1 2\n",
      "9 9 9 0 9 9 9 9\n",
      "1 1 1 1 0 1 1 1\n",
      "8 7 6 5 4 0 3 2\n",
      "9 1 9 1 9 1 0 9\n",
      "6 5 4 3 2 1 9 0\n"
     ]
    },
    {
     "data": {
      "text/plain": [
       "1"
      ]
     },
     "execution_count": 3,
     "metadata": {},
     "output_type": "execute_result"
    }
   ],
   "source": [
    "n = int(input())\n",
    "ability = []\n",
    "for i in range(n):\n",
    "    ab = list(map(int,input().split()))\n",
    "    ability.append(ab)\n",
    "start_link(n,ability)"
   ]
  }
 ],
 "metadata": {
  "kernelspec": {
   "display_name": "Python 3",
   "language": "python",
   "name": "python3"
  },
  "language_info": {
   "codemirror_mode": {
    "name": "ipython",
    "version": 3
   },
   "file_extension": ".py",
   "mimetype": "text/x-python",
   "name": "python",
   "nbconvert_exporter": "python",
   "pygments_lexer": "ipython3",
   "version": "3.5.3"
  }
 },
 "nbformat": 4,
 "nbformat_minor": 2
}
