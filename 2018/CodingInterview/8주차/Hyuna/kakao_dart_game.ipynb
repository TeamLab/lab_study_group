{
 "cells": [
  {
   "cell_type": "code",
   "execution_count": 131,
   "metadata": {
    "collapsed": false,
    "deletable": true,
    "editable": true
   },
   "outputs": [],
   "source": [
    "def dart_game():\n",
    "    score = list(map(str,input()))\n",
    "    square = {\"T\":3, \"S\":1, \"D\":2}\n",
    "\n",
    "    try:\n",
    "        for i in range(len(score)):\n",
    "            if score[i] == '1' and score[i+1] == '0':\n",
    "                score[i] = 10\n",
    "                del score[i+1]\n",
    "                \n",
    "    except:\n",
    "        IndexError\n",
    "     \n",
    "    try:\n",
    "        for i in range(len(score)):\n",
    "            if score[i] in square.keys():\n",
    "                score[i-1] = int(score[i-1]) ** square[score[i]]\n",
    "                del score[i]\n",
    "            else:\n",
    "                pass\n",
    "    except:\n",
    "        IndexError\n",
    "        \n",
    "    try:\n",
    "        for i in range(len(score)):\n",
    "            if score[i] ==\"*\" and i-2>=0:\n",
    "                score[i-2] = int(score[i-2])*2\n",
    "                score[i-1] = int(score[i-1])*2\n",
    "                del score[i]\n",
    "            elif score[i] ==\"*\" and i-2 < 0:\n",
    "                score[i-1] = int(score[i-1])*2\n",
    "                del score[i]\n",
    "            elif score[i] == \"#\":\n",
    "                score[i-1] = int(score[i-1])*-1\n",
    "                del score[i]\n",
    "            else:\n",
    "                pass\n",
    "    except:\n",
    "        IndexError\n",
    "\n",
    "    return sum(score)"
   ]
  },
  {
   "cell_type": "code",
   "execution_count": 133,
   "metadata": {
    "collapsed": false,
    "deletable": true,
    "editable": true
   },
   "outputs": [
    {
     "name": "stdout",
     "output_type": "stream",
     "text": [
      "1S2D*3T\n",
      "37\n"
     ]
    }
   ],
   "source": [
    "print(dart_game())"
   ]
  },
  {
   "cell_type": "code",
   "execution_count": 135,
   "metadata": {
    "collapsed": false
   },
   "outputs": [
    {
     "name": "stdout",
     "output_type": "stream",
     "text": [
      "1D2S#10S\n",
      "9\n"
     ]
    }
   ],
   "source": [
    "print(dart_game())"
   ]
  },
  {
   "cell_type": "code",
   "execution_count": 136,
   "metadata": {
    "collapsed": false
   },
   "outputs": [
    {
     "name": "stdout",
     "output_type": "stream",
     "text": [
      "1D2S0T\n",
      "3\n"
     ]
    }
   ],
   "source": [
    "print(dart_game())"
   ]
  },
  {
   "cell_type": "code",
   "execution_count": 137,
   "metadata": {
    "collapsed": false
   },
   "outputs": [
    {
     "name": "stdout",
     "output_type": "stream",
     "text": [
      "1S*2T*3S\n",
      "23\n"
     ]
    }
   ],
   "source": [
    "print(dart_game())"
   ]
  },
  {
   "cell_type": "code",
   "execution_count": 139,
   "metadata": {
    "collapsed": false
   },
   "outputs": [
    {
     "name": "stdout",
     "output_type": "stream",
     "text": [
      "1D#2S*3S\n",
      "5\n"
     ]
    }
   ],
   "source": [
    "print(dart_game())"
   ]
  },
  {
   "cell_type": "code",
   "execution_count": 140,
   "metadata": {
    "collapsed": false
   },
   "outputs": [
    {
     "name": "stdout",
     "output_type": "stream",
     "text": [
      "1T2D3D#\n",
      "-4\n"
     ]
    }
   ],
   "source": [
    "print(dart_game())"
   ]
  },
  {
   "cell_type": "code",
   "execution_count": 141,
   "metadata": {
    "collapsed": false
   },
   "outputs": [
    {
     "name": "stdout",
     "output_type": "stream",
     "text": [
      "1D2S3T*\n",
      "59\n"
     ]
    }
   ],
   "source": [
    "print(dart_game())"
   ]
  }
 ],
 "metadata": {
  "kernelspec": {
   "display_name": "Python 3",
   "language": "python",
   "name": "python3"
  },
  "language_info": {
   "codemirror_mode": {
    "name": "ipython",
    "version": 3
   },
   "file_extension": ".py",
   "mimetype": "text/x-python",
   "name": "python",
   "nbconvert_exporter": "python",
   "pygments_lexer": "ipython3",
   "version": "3.6.0"
  }
 },
 "nbformat": 4,
 "nbformat_minor": 2
}
