{
 "cells": [
  {
   "cell_type": "code",
   "execution_count": 159,
   "metadata": {
    "collapsed": false
   },
   "outputs": [],
   "source": [
    "def cache():\n",
    "    cache_size = int(input())\n",
    "    raw_cities = input()\n",
    "    raw_cities = list(raw_cities[raw_cities.index('[')+1 : raw_cities.index(']')].split(\",\"))\n",
    "    cache = []\n",
    "    running_time = []\n",
    "    \n",
    "    for i in raw_cities:\n",
    "        i = i[i.index('“')+1 : i.index('”')]\n",
    "        i = i.upper()\n",
    "        \n",
    "        if len(cache[0:cache_size+1]) < cache_size or cache_size == 0:\n",
    "            cache.insert(0,i)\n",
    "            running_time.append(5)\n",
    "\n",
    "        elif i in cache[0:cache_size+1]:\n",
    "            cache.insert(0,i)\n",
    "            running_time.append(1)\n",
    "            \n",
    "        else:\n",
    "            cache.insert(0,i)\n",
    "            running_time.append(5)\n",
    "\n",
    "    return sum(running_time)"
   ]
  },
  {
   "cell_type": "code",
   "execution_count": 166,
   "metadata": {
    "collapsed": false
   },
   "outputs": [
    {
     "name": "stdout",
     "output_type": "stream",
     "text": [
      "3\n",
      "\t[“Jeju”, “Pangyo”, “Seoul”, “NewYork”, “LA”, “Jeju”, “Pangyo”, “Seoul”, “NewYork”, “LA”]\n",
      "50\n"
     ]
    }
   ],
   "source": [
    "print(cache())"
   ]
  },
  {
   "cell_type": "code",
   "execution_count": 167,
   "metadata": {
    "collapsed": false
   },
   "outputs": [
    {
     "name": "stdout",
     "output_type": "stream",
     "text": [
      "3\n",
      "[“Jeju”, “Pangyo”, “Seoul”, “Jeju”, “Pangyo”, “Seoul”, “Jeju”, “Pangyo”, “Seoul”]\n",
      "21\n"
     ]
    }
   ],
   "source": [
    "print(cache())"
   ]
  },
  {
   "cell_type": "code",
   "execution_count": 168,
   "metadata": {
    "collapsed": false
   },
   "outputs": [
    {
     "name": "stdout",
     "output_type": "stream",
     "text": [
      "2\n",
      "[“Jeju”, “Pangyo”, “Seoul”, “NewYork”, “LA”, “SanFrancisco”, “Seoul”, “Rome”, “Paris”, “Jeju”, “NewYork”, “Rome”]\n",
      "60\n"
     ]
    }
   ],
   "source": [
    "print(cache())"
   ]
  },
  {
   "cell_type": "code",
   "execution_count": 169,
   "metadata": {
    "collapsed": false
   },
   "outputs": [
    {
     "name": "stdout",
     "output_type": "stream",
     "text": [
      "5\n",
      "\t[“Jeju”, “Pangyo”, “Seoul”, “NewYork”, “LA”, “SanFrancisco”, “Seoul”, “Rome”, “Paris”, “Jeju”, “NewYork”, “Rome”]\n",
      "52\n"
     ]
    }
   ],
   "source": [
    "print(cache())"
   ]
  },
  {
   "cell_type": "code",
   "execution_count": 170,
   "metadata": {
    "collapsed": false
   },
   "outputs": [
    {
     "name": "stdout",
     "output_type": "stream",
     "text": [
      "2\n",
      "\t[“Jeju”, “Pangyo”, “NewYork”, “newyork”]\n",
      "16\n"
     ]
    }
   ],
   "source": [
    "print(cache())"
   ]
  },
  {
   "cell_type": "code",
   "execution_count": 171,
   "metadata": {
    "collapsed": false
   },
   "outputs": [
    {
     "name": "stdout",
     "output_type": "stream",
     "text": [
      "0\n",
      "[“Jeju”, “Pangyo”, “Seoul”, “NewYork”, “LA”]\n",
      "25\n"
     ]
    }
   ],
   "source": [
    "print(cache())"
   ]
  }
 ],
 "metadata": {
  "kernelspec": {
   "display_name": "Python 3",
   "language": "python",
   "name": "python3"
  },
  "language_info": {
   "codemirror_mode": {
    "name": "ipython",
    "version": 3
   },
   "file_extension": ".py",
   "mimetype": "text/x-python",
   "name": "python",
   "nbconvert_exporter": "python",
   "pygments_lexer": "ipython3",
   "version": "3.6.0"
  }
 },
 "nbformat": 4,
 "nbformat_minor": 2
}
