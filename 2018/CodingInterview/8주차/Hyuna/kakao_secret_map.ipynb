{
 "cells": [
  {
   "cell_type": "code",
   "execution_count": 267,
   "metadata": {
    "collapsed": false
   },
   "outputs": [],
   "source": [
    "def secret_map():\n",
    "    number = int(input())\n",
    "    arr1 = input()\n",
    "    arr2 = input()\n",
    "    arr1 = [int(i) for i in arr1[arr1.index('[')+1 : arr1.index(']')].split(\",\")]\n",
    "    arr2 = [int(i)for i in arr2[arr2.index('[')+1 : arr2.index(']')].split(\",\")]\n",
    "    \n",
    "    output = []\n",
    "    for i in range(len(arr1)):\n",
    "        decoded = bin(arr1[i]|arr2[i])[2:].zfill(number)\n",
    "        decoded = decoded.replace('1',\"#\")\n",
    "        decoded = decoded.replace('0',\" \")\n",
    "        output.append(decoded)\n",
    "    return output"
   ]
  },
  {
   "cell_type": "code",
   "execution_count": 269,
   "metadata": {
    "collapsed": false
   },
   "outputs": [
    {
     "name": "stdout",
     "output_type": "stream",
     "text": [
      "5\n",
      "\t[9, 20, 28, 18, 11]\n",
      "\t[30, 1, 21, 17, 28]\n",
      "['#####', '# # #', '### #', '#  ##', '#####']\n"
     ]
    }
   ],
   "source": [
    "print(secret_map())"
   ]
  },
  {
   "cell_type": "code",
   "execution_count": 268,
   "metadata": {
    "collapsed": false
   },
   "outputs": [
    {
     "name": "stdout",
     "output_type": "stream",
     "text": [
      "6\n",
      "\t[46, 33, 33 ,22, 31, 50]\n",
      "\t[27 ,56, 19, 14, 14, 10]\n",
      "['######', '###  #', '##  ##', ' #### ', ' #####', '### # ']\n"
     ]
    }
   ],
   "source": [
    "print(secret_map())"
   ]
  }
 ],
 "metadata": {
  "kernelspec": {
   "display_name": "Python 3",
   "language": "python",
   "name": "python3"
  },
  "language_info": {
   "codemirror_mode": {
    "name": "ipython",
    "version": 3
   },
   "file_extension": ".py",
   "mimetype": "text/x-python",
   "name": "python",
   "nbconvert_exporter": "python",
   "pygments_lexer": "ipython3",
   "version": "3.6.0"
  }
 },
 "nbformat": 4,
 "nbformat_minor": 2
}
