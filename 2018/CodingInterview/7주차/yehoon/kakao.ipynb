{
 "cells": [
  {
   "cell_type": "markdown",
   "metadata": {},
   "source": [
    "## 1. 비밀 지도"
   ]
  },
  {
   "cell_type": "code",
   "execution_count": 181,
   "metadata": {
    "collapsed": true
   },
   "outputs": [],
   "source": [
    "def secret_map(n, arr1, arr2):\n",
    "    answer = []\n",
    "    bin_matrix = zip(arr1, arr2)\n",
    "\n",
    "    for dec_1, dec_2 in bin_matrix:\n",
    "        bin_1 = bin(dec_1)[2:].zfill(n)\n",
    "        bin_2 = bin(dec_2)[2:].zfill(n)\n",
    "\n",
    "        result = \"\"\n",
    "        for i in range(n):\n",
    "            or_operator = bin(int(bin_1[i]) | int(bin_2[i]))[2:]\n",
    "\n",
    "            if or_operator == '1':\n",
    "                result = result + \"#\"\n",
    "            else:\n",
    "                result = result + \" \"\n",
    "        answer.append(result)\n",
    "    return answer"
   ]
  },
  {
   "cell_type": "code",
   "execution_count": 182,
   "metadata": {},
   "outputs": [
    {
     "data": {
      "text/plain": [
       "['#####', '# # #', '### #', '#  ##', '#####']"
      ]
     },
     "execution_count": 182,
     "metadata": {},
     "output_type": "execute_result"
    }
   ],
   "source": [
    "n = 5\n",
    "arr1 = [9, 20, 28, 18, 11]\n",
    "arr2 = [30, 1, 21, 17, 28]\n",
    "\n",
    "secret_map(n, arr1, arr2)"
   ]
  },
  {
   "cell_type": "code",
   "execution_count": 183,
   "metadata": {},
   "outputs": [
    {
     "data": {
      "text/plain": [
       "['######', '###  #', '##  ##', ' #### ', ' #####', '### # ']"
      ]
     },
     "execution_count": 183,
     "metadata": {},
     "output_type": "execute_result"
    }
   ],
   "source": [
    "n = 6\n",
    "arr1 = [46, 33, 33, 22, 31, 50]\n",
    "arr2 = [27, 56, 19, 14, 14, 10]\n",
    "\n",
    "secret_map(n, arr1, arr2)"
   ]
  },
  {
   "cell_type": "markdown",
   "metadata": {},
   "source": [
    "## 2. 다트 게임"
   ]
  },
  {
   "cell_type": "code",
   "execution_count": 322,
   "metadata": {
    "collapsed": true
   },
   "outputs": [],
   "source": [
    "import re \n",
    "def dart_game_score(dart_result):\n",
    "    non_digit = re.findall('\\D+', dart_result)\n",
    "    digit = re.findall('\\d+', dart_result)\n",
    "    score = []\n",
    "    \n",
    "    for i in range(3):\n",
    "        score.append(int(digit[i]))\n",
    "        if 'S' in non_digit[i]:\n",
    "            pass\n",
    "        elif 'D' in non_digit[i]:\n",
    "            score[i] = score[i]**2\n",
    "        elif 'T' in non_digit[i]:\n",
    "            score[i] = score[i]**3\n",
    "\n",
    "        if '#' in non_digit[i]:\n",
    "            score[i] = score[i]*-1\n",
    "        elif '*' in non_digit[i]:\n",
    "            if i == 0:\n",
    "                score[i] = score[i]*2\n",
    "            else:\n",
    "                score[i-1] = score[i-1]*2\n",
    "                score[i] = score[i]*2\n",
    "    total_score = sum(score)\n",
    "    return total_score"
   ]
  },
  {
   "cell_type": "code",
   "execution_count": 323,
   "metadata": {},
   "outputs": [
    {
     "name": "stdout",
     "output_type": "stream",
     "text": [
      "37\n",
      "9\n",
      "3\n",
      "23\n",
      "5\n",
      "-4\n",
      "59\n"
     ]
    }
   ],
   "source": [
    "dart_result_list = ['1S2D*3T', '1D2S#10S', '1D2S0T', '1S*2T*3S', '1D#2S*3S', '1T2D3D#', '1D2S3T*']\n",
    "for i in dart_result_list:\n",
    "    print(dart_game_score(i))"
   ]
  },
  {
   "cell_type": "markdown",
   "metadata": {},
   "source": [
    "## 3. 캐시"
   ]
  },
  {
   "cell_type": "code",
   "execution_count": 217,
   "metadata": {},
   "outputs": [],
   "source": [
    "cache_size = [3, 3, 2, 5, 2, 0]\n",
    "cities = [['Jeju', 'Pangyo', 'Seoul', 'NewYork', 'LA', 'Jeju', 'Pangyo', 'Seoul', 'NewYork', 'LA'],\n",
    "          ['Jeju', 'Pangyo', 'Seoul', 'Jeju', 'Pangyo', 'Seoul', 'Jeju', 'Pangyo', 'Seoul'], \n",
    "          ['Jeju', 'Pangyo', 'Seoul', 'NewYork', 'LA', 'SanFrancisco', 'Seoul', 'Rome', 'Paris', \n",
    "           'Jeju', 'NewYork', 'Rome'] ,\n",
    "          ['Jeju', 'Pangyo', 'Seoul', 'NewYork', 'LA', 'SanFrancisco', 'Seoul', 'Rome', 'Paris', \n",
    "           'Jeju', 'NewYork', 'Rome'],\n",
    "          ['Jeju', 'Pangyo', 'NewYork', 'newyork'],\n",
    "          ['Jeju', 'Pangyo', 'Seoul', 'NewYork', 'LA']]"
   ]
  },
  {
   "cell_type": "code",
   "execution_count": 218,
   "metadata": {},
   "outputs": [],
   "source": [
    "def cache_change(cache_size, cities):\n",
    "    cache = []\n",
    "    time = 0\n",
    "    length = len(cities)\n",
    "\n",
    "    if cache_size != 0:\n",
    "        for i in range(length):\n",
    "            if len(cache) < cache_size:\n",
    "                time += 5\n",
    "                cache.append(cities[i].lower())\n",
    "            else:\n",
    "                if cache.count(cities[i].lower()) != 0:\n",
    "                    time += 1\n",
    "                else:\n",
    "                    cache = cache[1:]\n",
    "                    cache.append((cities[i].lower()))\n",
    "                    time += 5\n",
    "    else:\n",
    "        for i in range(length):\n",
    "            time += 5\n",
    "    return time"
   ]
  },
  {
   "cell_type": "code",
   "execution_count": 223,
   "metadata": {},
   "outputs": [
    {
     "name": "stdout",
     "output_type": "stream",
     "text": [
      "50\n",
      "21\n",
      "60\n",
      "52\n",
      "16\n",
      "25\n"
     ]
    }
   ],
   "source": [
    "for i, j in zip(cache_size, cities):\n",
    "    print(cache_change(i, j))"
   ]
  }
 ],
 "metadata": {
  "kernelspec": {
   "display_name": "Python 3",
   "language": "python",
   "name": "python3"
  },
  "language_info": {
   "codemirror_mode": {
    "name": "ipython",
    "version": 3
   },
   "file_extension": ".py",
   "mimetype": "text/x-python",
   "name": "python",
   "nbconvert_exporter": "python",
   "pygments_lexer": "ipython3",
   "version": "3.6.3"
  }
 },
 "nbformat": 4,
 "nbformat_minor": 2
}
