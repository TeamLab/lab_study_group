{
 "cells": [
  {
   "cell_type": "code",
   "execution_count": 259,
   "metadata": {
    "collapsed": false,
    "deletable": true,
    "editable": true
   },
   "outputs": [
    {
     "name": "stdout",
     "output_type": "stream",
     "text": [
      "[ “2016-09-15 01:00:04.001 2.0s”, “2016-09-15 01:00:07.000 2s” ]\n"
     ]
    }
   ],
   "source": [
    "import datetime\n",
    "# datetime.timedelta\n",
    "\n",
    "\n",
    "# [ “2016-09-15 01:00:04.001 2.0s”, “2016-09-15 01:00:07.000 2s” ]\n",
    "lines = input().split(\",\")\n",
    "def time_translator(sequence):\n",
    "    sequence = sequence[sequence.index(\"“\")+1: sequence.index(\"”\")].split(\" \")\n",
    "    sequence_time = datetime.datetime.strptime(sequence[0]+\" \"+sequence[1],'%Y-%m-%d %H:%M:%S.%f')\n",
    "    return sequence_time\n",
    "\n",
    "def traffic_time(sequence):\n",
    "    sequence = sequence[sequence.index(\"“\")+1: sequence.index(\"”\")].split(\" \")\n",
    "    sequence = float(sequence[2].replace(\"s\",\"\"))\n",
    "    return sequence\n",
    "\n",
    "def solution(lines):\n",
    "    for i in range(len(lines)):\n",
    "        if i+1 < len(lines):\n",
    "            starting_time = (time_translator(lines[i]).second + 0.1**6*time_translator(lines[i]).microsecond)+0.001-traffic_time(lines[i])\n",
    "            ending_time = (time_translator(lines[i+1]).second + 0.1**6*time_translator(lines[i+1]).microsecond)#-traffic_time(all_input[i+1]))\n",
    "        else:\n",
    "            pass            \n",
    "\n",
    "# before_time = time_translator(before)\n",
    "# after_time = time_translator(after)\n",
    "# print(traffic_time(before),traffic_time(after))\n",
    "# print(all_input)\n",
    "# for i in range(len(all_input)):\n",
    "#     print(time_translator(all_input[i]).second + 0.1**6*time_translator(all_input[i]).microsecond)\n",
    "\n",
    "#     print(traffic_time(all_input[i]))"
   ]
  },
  {
   "cell_type": "code",
   "execution_count": 287,
   "metadata": {
    "collapsed": false,
    "deletable": true,
    "editable": true
   },
   "outputs": [
    {
     "name": "stdout",
     "output_type": "stream",
     "text": [
      "[ “2016-09-15 01:00:04.001 2.0s”, “2016-09-15 01:00:07.000 2s” ]\n",
      "0.9980000000000002\n",
      "4.998\n",
      "[2, 1]\n"
     ]
    }
   ],
   "source": [
    "import itertools\n",
    "import math\n",
    "\n",
    "all_input = input().split(\",\")\n",
    "for i in range(len(all_input)):\n",
    "    if i+1 < len(all_input):\n",
    "        traffic_1 = traffic_time(all_input[i])\n",
    "        traffic_2 = traffic_time(all_input[i+1])\n",
    "        starting_time = float(time_translator(all_input[i]).second + 0.1**6*time_translator(all_input[i]).microsecond)+0.001-traffic_1\n",
    "        ending_time = float(time_translator(all_input[i+1]).second + 0.1**6*time_translator(all_input[i+1]).microsecond)\n",
    "        starting_time = round(starting_time,4) #파이썬 근삿값 오류 해결\n",
    "\n",
    "        is_overapped = []\n",
    "        if (ending_time - traffic_2) - (starting_time + traffic_1) > 0:\n",
    "            is_overapped.append(1)\n",
    "            print((ending_time - traffic_2) - (starting_time + traffic_1))\n",
    "        elif (ending_time - traffic_2) - (starting_time + traffic_1) <= 0:\n",
    "            is_overapped.append(2)\n",
    "            print((ending_time - traffic_2) - (starting_time + traffic_1))\n",
    "        else:\n",
    "            pass\n",
    "    else:\n",
    "        pass\n",
    "    \n",
    "print(ending_time-starting_time)\n",
    "print(max_finder)"
   ]
  },
  {
   "cell_type": "code",
   "execution_count": 340,
   "metadata": {
    "collapsed": false,
    "deletable": true,
    "editable": true
   },
   "outputs": [
    {
     "name": "stdout",
     "output_type": "stream",
     "text": [
      " “2016-09-15 20:59:57.421 0.351s”, “2016-09-15 20:59:58.233 1.181s”, “2016-09-15 20:59:58.299 0.8s”, “2016-09-15 20:59:58.688 1.041s”, “2016-09-15 20:59:59.591 1.412s”, “2016-09-15 21:00:00.464 1.466s”, “2016-09-15 21:00:00.741 1.581s”, “2016-09-15 21:00:00.748 2.31s”, “2016-09-15 21:00:00.966 0.381s”, “2016-09-15 21:00:02.066 2.62s” ]\n",
      "[1]\n",
      "[1, 1]\n",
      "[1, 1, 1]\n",
      "[1, 1, 1, 1]\n",
      "[1, 1, 1, 1, 0]\n",
      "[1, 1, 1, 1, 0, 0]\n",
      "[1, 1, 1, 1, 0, 0, 0]\n",
      "[1, 1, 1, 1, 0, 0, 0, 1]\n",
      "[1, 1, 1, 1, 0, 0, 0, 1, 0]\n",
      "0.586 0.966 -0.553\n"
     ]
    }
   ],
   "source": [
    "import itertools\n",
    "import math\n",
    "from decimal import Decimal\n",
    "# datetime.timedelta\n",
    "all_input = input().split(\",\")\n",
    "is_overapped = []\n",
    "for i in range(len(all_input)):\n",
    "    if i+1 < len(all_input):\n",
    "        traffic_1 = traffic_time(all_input[i])\n",
    "        traffic_2 = traffic_time(all_input[i+1])\n",
    "        starting_time = float(time_translator(all_input[i]).second + 0.1**6*time_translator(all_input[i]).microsecond)+0.001-traffic_1\n",
    "        ending_time = float(time_translator(all_input[i+1]).second + 0.1**6*time_translator(all_input[i+1]).microsecond)\n",
    "        starting_time = round(starting_time,4) #파이썬 근삿값 오류 해결\n",
    "        \n",
    "        if abs((ending_time - traffic_2) - (starting_time + traffic_1-0.001)) > 0.999:\n",
    "            is_overapped.append(0)\n",
    "        elif abs((ending_time - traffic_2) - (starting_time + traffic_1)) <= 0.999:\n",
    "            is_overapped.append(1)\n",
    "        else:\n",
    "            pass\n",
    "    else:\n",
    "        pass\n",
    "    \n",
    "# print(ending_time-starting_time)\n",
    "# print(max_finder)\n",
    "# # print(sequence)\n",
    "# print(sum(is_overapped))\n",
    "print(starting_time,round(starting_time + traffic_1-0.001,4),round(ending_time-traffic_2+0.001,4))"
   ]
  },
  {
   "cell_type": "code",
   "execution_count": 344,
   "metadata": {
    "collapsed": false,
    "deletable": true,
    "editable": true
   },
   "outputs": [
    {
     "name": "stdout",
     "output_type": "stream",
     "text": [
      "[ “2016-09-15 01:00:04.002 2.0s”, “2016-09-15 01:00:07.000 2s” ]\n"
     ]
    },
    {
     "ename": "TypeError",
     "evalue": "'getset_descriptor' object is not callable",
     "output_type": "error",
     "traceback": [
      "\u001b[1;31m---------------------------------------------------------------------------\u001b[0m",
      "\u001b[1;31mTypeError\u001b[0m                                 Traceback (most recent call last)",
      "\u001b[1;32m<ipython-input-344-03310e4b4610>\u001b[0m in \u001b[0;36m<module>\u001b[1;34m()\u001b[0m\n\u001b[0;32m     10\u001b[0m         \u001b[0mtraffic_2\u001b[0m \u001b[1;33m=\u001b[0m \u001b[0mtraffic_time\u001b[0m\u001b[1;33m(\u001b[0m\u001b[0mall_input\u001b[0m\u001b[1;33m[\u001b[0m\u001b[0mi\u001b[0m\u001b[1;33m+\u001b[0m\u001b[1;36m1\u001b[0m\u001b[1;33m]\u001b[0m\u001b[1;33m)\u001b[0m\u001b[1;33m\u001b[0m\u001b[0m\n\u001b[0;32m     11\u001b[0m \u001b[1;31m#         starting_time = float(time_translator(all_input[i]).second + 0.1**6*time_translator(all_input[i]).microsecond)+0.001-traffic_1\u001b[0m\u001b[1;33m\u001b[0m\u001b[1;33m\u001b[0m\u001b[0m\n\u001b[1;32m---> 12\u001b[1;33m         \u001b[0mstarting_time\u001b[0m \u001b[1;33m=\u001b[0m \u001b[0mdatetime\u001b[0m\u001b[1;33m.\u001b[0m\u001b[0mtimedelta\u001b[0m\u001b[1;33m(\u001b[0m\u001b[0mtime_translator\u001b[0m\u001b[1;33m(\u001b[0m\u001b[0mall_input\u001b[0m\u001b[1;33m[\u001b[0m\u001b[0mi\u001b[0m\u001b[1;33m]\u001b[0m\u001b[1;33m)\u001b[0m \u001b[1;33m-\u001b[0m \u001b[0mdatetime\u001b[0m\u001b[1;33m.\u001b[0m\u001b[0mdatetime\u001b[0m\u001b[1;33m.\u001b[0m\u001b[0msecond\u001b[0m\u001b[1;33m(\u001b[0m\u001b[0mtraffic_1\u001b[0m\u001b[1;33m)\u001b[0m\u001b[1;33m)\u001b[0m\u001b[1;33m\u001b[0m\u001b[0m\n\u001b[0m\u001b[0;32m     13\u001b[0m \u001b[1;31m#         ending_time = float(time_translator(all_input[i+1]).second + 0.1**6*time_translator(all_input[i+1]).microsecond)\u001b[0m\u001b[1;33m\u001b[0m\u001b[1;33m\u001b[0m\u001b[0m\n\u001b[0;32m     14\u001b[0m \u001b[1;31m#         starting_time = round(starting_time,4) #파이썬 근삿값 오류 해결\u001b[0m\u001b[1;33m\u001b[0m\u001b[1;33m\u001b[0m\u001b[0m\n",
      "\u001b[1;31mTypeError\u001b[0m: 'getset_descriptor' object is not callable"
     ]
    }
   ],
   "source": [
    "import itertools\n",
    "import math\n",
    "from decimal import Decimal\n",
    "# datetime.timedelta\n",
    "all_input = input().split(\",\")\n",
    "is_overapped = []\n",
    "for i in range(len(all_input)):\n",
    "    if i+1 < len(all_input):\n",
    "        traffic_1 = traffic_time(all_input[i])\n",
    "        traffic_2 = traffic_time(all_input[i+1])\n",
    "#         starting_time = float(time_translator(all_input[i]).second + 0.1**6*time_translator(all_input[i]).microsecond)+0.001-traffic_1\n",
    "        starting_time = datetime.timedelta(time_translator(all_input[i]) - datetime.datetime.second(traffic_1))\n",
    "#         ending_time = float(time_translator(all_input[i+1]).second + 0.1**6*time_translator(all_input[i+1]).microsecond)\n",
    "#         starting_time = round(starting_time,4) #파이썬 근삿값 오류 해결\n",
    "#         \n",
    "#         if abs((ending_time - traffic_2) - (starting_time + traffic_1-0.001)) > 0.999:\n",
    "#             is_overapped.append(0)\n",
    "#         elif abs((ending_time - traffic_2) - (starting_time + traffic_1)) <= 0.999:\n",
    "#             is_o/verapped.append(1)\n",
    "#         else:\n",
    "#             pass\n",
    "    else:\n",
    "        pass\n",
    "print(starting_time)"
   ]
  },
  {
   "cell_type": "code",
   "execution_count": null,
   "metadata": {
    "collapsed": true,
    "deletable": true,
    "editable": true
   },
   "outputs": [],
   "source": []
  }
 ],
 "metadata": {
  "kernelspec": {
   "display_name": "Python 3",
   "language": "python",
   "name": "python3"
  },
  "language_info": {
   "codemirror_mode": {
    "name": "ipython",
    "version": 3
   },
   "file_extension": ".py",
   "mimetype": "text/x-python",
   "name": "python",
   "nbconvert_exporter": "python",
   "pygments_lexer": "ipython3",
   "version": "3.6.0"
  }
 },
 "nbformat": 4,
 "nbformat_minor": 2
}
