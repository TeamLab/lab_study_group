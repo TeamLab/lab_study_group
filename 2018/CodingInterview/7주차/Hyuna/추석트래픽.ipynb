{
 "cells": [
  {
   "cell_type": "code",
   "execution_count": 232,
   "metadata": {
    "collapsed": false,
    "deletable": true,
    "editable": true
   },
   "outputs": [],
   "source": [
    "import datetime\n",
    "import pprint as pp\n",
    "from decimal import Decimal\n",
    "\n",
    "def time_translator(lines):\n",
    "    line_list = []\n",
    "    for sequence in lines:\n",
    "        sequence = sequence[sequence.index(\"“\")+1: sequence.index(\"”\")].split(\" \")\n",
    "        sequence_time = datetime.datetime.strptime(sequence[0]+\" \"+sequence[1],'%Y-%m-%d %H:%M:%S.%f')\n",
    "        line_list.append(sequence_time)\n",
    "    return line_list\n",
    "\n",
    "def traffic_time(lines):\n",
    "    traffic_list = []\n",
    "    for sequence in lines:\n",
    "        sequence = sequence[sequence.index(\"“\")+1: sequence.index(\"”\")].split(\" \")\n",
    "        sequence = float(sequence[2].replace(\"s\",\"\"))\n",
    "        sequence = [datetime.timedelta(seconds = sequence-0.001),datetime.timedelta(seconds = 1)]\n",
    "        traffic_list.append(sequence)\n",
    "    return traffic_list\n",
    "\n",
    "def solution(line_list, traffic_list):\n",
    "    count = [1,] \n",
    "    for i in range(len(line_list)):\n",
    "        max_time = []\n",
    "        for j in range(len(line_list)):\n",
    "            if line_list[j]-traffic_list[j][0] < line_list[i] + traffic_list[j][1]<line_list[j]:\n",
    "                max_time.append(line_list[j])  \n",
    "            elif  line_list[j]-traffic_list[j][0] < line_list[i] - traffic_list[i][0]<line_list[j]:\n",
    "                max_time.append(line_list[j])\n",
    "            else:\n",
    "                pass\n",
    "        try:\n",
    "            if max(max_time) - min(max_time) >= traffic_list[0][1]:\n",
    "                max_time.remove(max(max_time))\n",
    "            else:\n",
    "                pass\n",
    "            count.append(1+len(max_time))\n",
    "        except:\n",
    "            ValueError\n",
    "    return max(count)\n",
    "\n",
    "\n",
    "def main():\n",
    "    lines = input().split(\",\")\n",
    "    traffic_list = traffic_time(lines)\n",
    "    line_list = time_translator(lines)\n",
    "    return solution(line_list,traffic_list)"
   ]
  },
  {
   "cell_type": "code",
   "execution_count": 233,
   "metadata": {
    "collapsed": false,
    "deletable": true,
    "editable": true
   },
   "outputs": [
    {
     "name": "stdout",
     "output_type": "stream",
     "text": [
      "[ “2016-09-15 01:00:04.001 2.0s”, “2016-09-15 01:00:07.000 2s” ]\n",
      "1\n"
     ]
    }
   ],
   "source": [
    "print(main())"
   ]
  },
  {
   "cell_type": "code",
   "execution_count": 228,
   "metadata": {
    "collapsed": false,
    "deletable": true,
    "editable": true
   },
   "outputs": [
    {
     "name": "stdout",
     "output_type": "stream",
     "text": [
      "[ “2016-09-15 01:00:04.002 2.0s”, “2016-09-15 01:00:07.000 2s” ]\n",
      "2\n"
     ]
    }
   ],
   "source": [
    "print(main())"
   ]
  },
  {
   "cell_type": "code",
   "execution_count": 229,
   "metadata": {
    "collapsed": false,
    "deletable": true,
    "editable": true
   },
   "outputs": [
    {
     "name": "stdout",
     "output_type": "stream",
     "text": [
      "[ “2016-09-15 20:59:57.421 0.351s”, “2016-09-15 20:59:58.233 1.181s”, “2016-09-15 20:59:58.299 0.8s”, “2016-09-15 20:59:58.688 1.041s”, “2016-09-15 20:59:59.591 1.412s”, “2016-09-15 21:00:00.464 1.466s”, “2016-09-15 21:00:00.741 1.581s”, “2016-09-15 21:00:00.748 2.31s”, “2016-09-15 21:00:00.966 0.381s”, “2016-09-15 21:00:02.066 2.62s” ]\n",
      "7\n"
     ]
    }
   ],
   "source": [
    "pp.pprint(main())"
   ]
  }
 ],
 "metadata": {
  "kernelspec": {
   "display_name": "Python 3",
   "language": "python",
   "name": "python3"
  },
  "language_info": {
   "codemirror_mode": {
    "name": "ipython",
    "version": 3
   },
   "file_extension": ".py",
   "mimetype": "text/x-python",
   "name": "python",
   "nbconvert_exporter": "python",
   "pygments_lexer": "ipython3",
   "version": "3.6.0"
  }
 },
 "nbformat": 4,
 "nbformat_minor": 2
}
