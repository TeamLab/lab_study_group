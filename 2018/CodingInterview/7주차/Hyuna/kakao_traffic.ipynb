{
 "cells": [
  {
   "cell_type": "code",
   "execution_count": 97,
   "metadata": {
    "collapsed": false,
    "deletable": true,
    "editable": true
   },
   "outputs": [],
   "source": [
    "import datetime\n",
    "import pprint as pp\n",
    "\n",
    "def time_translator(lines):\n",
    "    line_list = []\n",
    "    for sequence in lines:\n",
    "        sequence = sequence[sequence.index(\"“\")+1: sequence.index(\"”\")].split(\" \")\n",
    "        sequence_time = datetime.datetime.strptime(sequence[0]+\" \"+sequence[1],'%Y-%m-%d %H:%M:%S.%f')\n",
    "        line_list.append(sequence_time)\n",
    "    return line_list\n",
    "\n",
    "def traffic_time(lines):\n",
    "    traffic_list = []\n",
    "    for sequence in lines:\n",
    "        sequence = sequence[sequence.index(\"“\")+1: sequence.index(\"”\")].split(\" \")\n",
    "        sequence = float(sequence[2].replace(\"s\",\"\"))\n",
    "        sequence = [datetime.timedelta(seconds = sequence-0.001),datetime.timedelta(seconds = 1)]\n",
    "        traffic_list.append(sequence)\n",
    "    return traffic_list\n",
    "\n",
    "def solution(line_list, traffic_list):\n",
    "    count = [] \n",
    "    \n",
    "    for i in range(len(line_list)):\n",
    "        max_time = []\n",
    "        max_time.append(line_list[i])\n",
    "        for j in range(len(line_list)):\n",
    "            if line_list[j]-traffic_list[j][0] < line_list[i] + traffic_list[j][1] < line_list[j] : \n",
    "                max_time.sort()\n",
    "                max_time.append(line_list[j]-traffic_list[j][0])\n",
    "            elif  line_list[j]-traffic_list[j][0] < line_list[i] - traffic_list[i][0] < line_list[j]:\n",
    "                max_time.sort()\n",
    "                max_time.append(line_list[j])\n",
    "            else:\n",
    "                pass\n",
    "        try:\n",
    "            while max(max_time) - min(max_time) > traffic_list[0][1]:\n",
    "                if len(max_time) == 1:\n",
    "                    break\n",
    "                elif max_time[max_time.index(max(max_time))-1] - min(max_time)  <= traffic_list[0][1]:\n",
    "                    max_time.remove(max(max_time))\n",
    "                elif max(max_time) - max_time[max_time.index(min(max_time))+1] <= traffic_list[0][1]: \n",
    "                    max_time.remove(min(max_time))\n",
    "                else:\n",
    "                    pass\n",
    "            count.append(len(max_time))\n",
    "        except:\n",
    "            ValueError\n",
    "    return max(count)\n",
    "\n",
    "\n",
    "def main():\n",
    "    lines = input().split(\",\")\n",
    "    traffic_list = traffic_time(lines)\n",
    "    line_list = time_translator(lines)\n",
    "    return solution(line_list,traffic_list)"
   ]
  },
  {
   "cell_type": "code",
   "execution_count": 81,
   "metadata": {
    "collapsed": false,
    "deletable": true,
    "editable": true,
    "scrolled": true
   },
   "outputs": [
    {
     "name": "stdout",
     "output_type": "stream",
     "text": [
      "“2016-09-15 01:00:04.001 2.0s”, “2016-09-15 01:00:07.000 2s” ]\n",
      "1\n"
     ]
    }
   ],
   "source": [
    "print(main())"
   ]
  },
  {
   "cell_type": "code",
   "execution_count": 82,
   "metadata": {
    "collapsed": false,
    "deletable": true,
    "editable": true
   },
   "outputs": [
    {
     "name": "stdout",
     "output_type": "stream",
     "text": [
      "“2016-09-15 01:00:04.002 2.0s”, “2016-09-15 01:00:07.000 2s” ]\n",
      "2\n"
     ]
    }
   ],
   "source": [
    "print(main())"
   ]
  },
  {
   "cell_type": "code",
   "execution_count": 98,
   "metadata": {
    "collapsed": false,
    "deletable": true,
    "editable": true
   },
   "outputs": [
    {
     "name": "stdout",
     "output_type": "stream",
     "text": [
      "[ “2016-09-15 20:59:57.421 0.351s”, “2016-09-15 20:59:58.233 1.181s”, “2016-09-15 20:59:58.299 0.8s”, “2016-09-15 20:59:58.688 1.041s”, “2016-09-15 20:59:59.591 1.412s”, “2016-09-15 21:00:00.464 1.466s”, “2016-09-15 21:00:00.741 1.581s”, “2016-09-15 21:00:00.748 2.31s”, “2016-09-15 21:00:00.966 0.381s”, “2016-09-15 21:00:02.066 2.62s” ]\n",
      "6\n"
     ]
    }
   ],
   "source": [
    "print(main())"
   ]
  },
  {
   "cell_type": "code",
   "execution_count": null,
   "metadata": {
    "collapsed": true
   },
   "outputs": [],
   "source": []
  }
 ],
 "metadata": {
  "kernelspec": {
   "display_name": "Python 3",
   "language": "python",
   "name": "python3"
  },
  "language_info": {
   "codemirror_mode": {
    "name": "ipython",
    "version": 3
   },
   "file_extension": ".py",
   "mimetype": "text/x-python",
   "name": "python",
   "nbconvert_exporter": "python",
   "pygments_lexer": "ipython3",
   "version": "3.6.0"
  }
 },
 "nbformat": 4,
 "nbformat_minor": 2
}
