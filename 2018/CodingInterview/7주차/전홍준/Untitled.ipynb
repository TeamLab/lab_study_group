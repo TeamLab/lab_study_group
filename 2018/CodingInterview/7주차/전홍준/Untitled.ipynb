{
 "cells": [
  {
   "cell_type": "code",
   "execution_count": 42,
   "metadata": {},
   "outputs": [
    {
     "name": "stdout",
     "output_type": "stream",
     "text": [
      "5\n",
      "9 20 28 18 11\n",
      "30 1 21 17 28\n"
     ]
    }
   ],
   "source": [
    "n = int(input())\n",
    "arr1 = list(map(int, input().split()))\n",
    "arr2 = list(map(int, input().split()))"
   ]
  },
  {
   "cell_type": "code",
   "execution_count": 172,
   "metadata": {},
   "outputs": [],
   "source": [
    "answer = []\n",
    "answer2 = []\n",
    "answer3 = []\n",
    "answer4 = []\n",
    "final = [['0' for col in range(n)] for row in range(n)]"
   ]
  },
  {
   "cell_type": "code",
   "execution_count": 173,
   "metadata": {},
   "outputs": [
    {
     "name": "stdout",
     "output_type": "stream",
     "text": [
      "[['0', '0', '0', '0', '0'], ['0', '0', '0', '0', '0'], ['0', '0', '0', '0', '0'], ['0', '0', '0', '0', '0'], ['0', '0', '0', '0', '0']]\n"
     ]
    }
   ],
   "source": [
    "print(final)"
   ]
  },
  {
   "cell_type": "code",
   "execution_count": 174,
   "metadata": {},
   "outputs": [
    {
     "name": "stdout",
     "output_type": "stream",
     "text": [
      "['1001', '10100', '11100', '10010', '1011']\n"
     ]
    }
   ],
   "source": [
    "for i in arr1:\n",
    "    answer.append(bin(i)[2:])\n",
    "print(answer)"
   ]
  },
  {
   "cell_type": "code",
   "execution_count": 175,
   "metadata": {},
   "outputs": [],
   "source": [
    "for i in range(5):\n",
    "    answer2.append(list(answer[i]))"
   ]
  },
  {
   "cell_type": "code",
   "execution_count": 176,
   "metadata": {},
   "outputs": [
    {
     "data": {
      "text/plain": [
       "4"
      ]
     },
     "execution_count": 176,
     "metadata": {},
     "output_type": "execute_result"
    }
   ],
   "source": [
    "len(answer2[0])"
   ]
  },
  {
   "cell_type": "code",
   "execution_count": 177,
   "metadata": {},
   "outputs": [],
   "source": [
    "for i in range(5):\n",
    "    while len(answer2[i]) != n:\n",
    "        answer2[i].insert(0, '0')"
   ]
  },
  {
   "cell_type": "code",
   "execution_count": 178,
   "metadata": {},
   "outputs": [
    {
     "name": "stdout",
     "output_type": "stream",
     "text": [
      "[['0', '1', '0', '0', '1'], ['1', '0', '1', '0', '0'], ['1', '1', '1', '0', '0'], ['1', '0', '0', '1', '0'], ['0', '1', '0', '1', '1']]\n"
     ]
    }
   ],
   "source": [
    "print(answer2)"
   ]
  },
  {
   "cell_type": "code",
   "execution_count": 179,
   "metadata": {},
   "outputs": [
    {
     "name": "stdout",
     "output_type": "stream",
     "text": [
      "[['1', '1', '1', '1', '0'], ['0', '0', '0', '0', '1'], ['1', '0', '1', '0', '1'], ['1', '0', '0', '0', '1'], ['1', '1', '1', '0', '0']]\n"
     ]
    }
   ],
   "source": [
    "for i in arr2:\n",
    "    answer3.append(bin(i)[2:])\n",
    "\n",
    "for i in range(5):\n",
    "    answer4.append(list(answer3[i]))\n",
    "\n",
    "for i in range(5):\n",
    "    while len(answer4[i]) != n:\n",
    "        answer4[i].insert(0, '0')\n",
    "\n",
    "print(answer4)"
   ]
  },
  {
   "cell_type": "code",
   "execution_count": 180,
   "metadata": {},
   "outputs": [],
   "source": [
    "for i in range(n):\n",
    "    for j in range(n):\n",
    "        if answer2[i][j] =='1' or answer4[i][j] == '1':\n",
    "            final[i][j]='#'\n",
    "        else:\n",
    "            final[i][j]=''"
   ]
  },
  {
   "cell_type": "code",
   "execution_count": 181,
   "metadata": {},
   "outputs": [
    {
     "data": {
      "text/plain": [
       "[['#', '#', '#', '#', '#'],\n",
       " ['#', '', '#', '', '#'],\n",
       " ['#', '#', '#', '', '#'],\n",
       " ['#', '', '', '#', '#'],\n",
       " ['#', '#', '#', '#', '#']]"
      ]
     },
     "execution_count": 181,
     "metadata": {},
     "output_type": "execute_result"
    }
   ],
   "source": [
    "final"
   ]
  },
  {
   "cell_type": "code",
   "execution_count": 182,
   "metadata": {},
   "outputs": [
    {
     "name": "stdout",
     "output_type": "stream",
     "text": [
      "[['#', '#', '#', '#', '#'], ['#', '', '#', '', '#'], ['#', '#', '#', '', '#'], ['#', '', '', '#', '#'], ['#', '#', '#', '#', '#']]\n"
     ]
    }
   ],
   "source": [
    "print(str(final))"
   ]
  },
  {
   "cell_type": "code",
   "execution_count": 183,
   "metadata": {},
   "outputs": [],
   "source": [
    "treasure = ['0' for col in range(n)]"
   ]
  },
  {
   "cell_type": "code",
   "execution_count": 184,
   "metadata": {},
   "outputs": [],
   "source": [
    "for i in range(5):\n",
    "    treasure[i]=' '.join(final[i])"
   ]
  },
  {
   "cell_type": "code",
   "execution_count": 185,
   "metadata": {},
   "outputs": [
    {
     "data": {
      "text/plain": [
       "['# # # # #', '#  #  #', '# # #  #', '#   # #', '# # # # #']"
      ]
     },
     "execution_count": 185,
     "metadata": {},
     "output_type": "execute_result"
    }
   ],
   "source": [
    "treasure"
   ]
  },
  {
   "cell_type": "code",
   "execution_count": null,
   "metadata": {
    "collapsed": true
   },
   "outputs": [],
   "source": []
  }
 ],
 "metadata": {
  "kernelspec": {
   "display_name": "Python 3",
   "language": "python",
   "name": "python3"
  },
  "language_info": {
   "codemirror_mode": {
    "name": "ipython",
    "version": 3
   },
   "file_extension": ".py",
   "mimetype": "text/x-python",
   "name": "python",
   "nbconvert_exporter": "python",
   "pygments_lexer": "ipython3",
   "version": "3.6.4"
  }
 },
 "nbformat": 4,
 "nbformat_minor": 2
}
