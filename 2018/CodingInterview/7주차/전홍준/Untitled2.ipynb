{
 "cells": [
  {
   "cell_type": "code",
   "execution_count": 179,
   "metadata": {},
   "outputs": [
    {
     "name": "stdout",
     "output_type": "stream",
     "text": [
      "5\n"
     ]
    }
   ],
   "source": [
    "#캐시 크기만큼 큐 만들고, 새로 들어오면 5, 이미 있다면 1, 새로 들어오거나 이미 있는거면 맨 뒤로, 안쓰이면 맨 앞 삭제 del arr[0]\n",
    "\n",
    "city =[\"Jeju\", \"Pangyo\", \"Seoul\", \"NewYork\", \"LA\", \"SanFrancisco\", \"Seoul\", \"Rome\", \"Paris\", \"Jeju\", \"NewYork\", \"Rome\"]\n",
    "city2 = []\n",
    "time = 0\n",
    "temp = []\n",
    "cacheSize=int(input())"
   ]
  },
  {
   "cell_type": "code",
   "execution_count": 180,
   "metadata": {},
   "outputs": [],
   "source": [
    "for i in range(len(city)):\n",
    "    city2.append(city[i].upper())"
   ]
  },
  {
   "cell_type": "code",
   "execution_count": 181,
   "metadata": {},
   "outputs": [
    {
     "name": "stdout",
     "output_type": "stream",
     "text": [
      "['JEJU', 'PANGYO', 'SEOUL', 'NEWYORK', 'LA', 'SANFRANCISCO', 'SEOUL', 'ROME', 'PARIS', 'JEJU', 'NEWYORK', 'ROME']\n"
     ]
    }
   ],
   "source": [
    "print(city2)"
   ]
  },
  {
   "cell_type": "code",
   "execution_count": 182,
   "metadata": {},
   "outputs": [
    {
     "name": "stdout",
     "output_type": "stream",
     "text": [
      "5\n",
      "10\n",
      "15\n",
      "20\n",
      "25\n",
      "30\n",
      "31\n",
      "36\n",
      "41\n",
      "46\n",
      "51\n",
      "52\n"
     ]
    }
   ],
   "source": [
    "for i in city2:\n",
    "    if len(temp) < cacheSize:\n",
    "        if i in temp:\n",
    "            temp.pop(0)\n",
    "            temp.append(i)\n",
    "            time += 1\n",
    "        else:\n",
    "            time += 5\n",
    "            temp.append(i)\n",
    "    elif len(temp) == cacheSize:\n",
    "        if i in temp:\n",
    "            temp.pop(0)\n",
    "            temp.append(i)\n",
    "            time += 1\n",
    "        else:\n",
    "            temp.pop(0)\n",
    "            temp.append(i)\n",
    "            time += 5\n",
    "    print(time)"
   ]
  },
  {
   "cell_type": "code",
   "execution_count": 183,
   "metadata": {},
   "outputs": [
    {
     "data": {
      "text/plain": [
       "52"
      ]
     },
     "execution_count": 183,
     "metadata": {},
     "output_type": "execute_result"
    }
   ],
   "source": [
    "time"
   ]
  },
  {
   "cell_type": "code",
   "execution_count": null,
   "metadata": {
    "collapsed": true
   },
   "outputs": [],
   "source": []
  }
 ],
 "metadata": {
  "kernelspec": {
   "display_name": "Python 3",
   "language": "python",
   "name": "python3"
  },
  "language_info": {
   "codemirror_mode": {
    "name": "ipython",
    "version": 3
   },
   "file_extension": ".py",
   "mimetype": "text/x-python",
   "name": "python",
   "nbconvert_exporter": "python",
   "pygments_lexer": "ipython3",
   "version": "3.6.4"
  }
 },
 "nbformat": 4,
 "nbformat_minor": 2
}
