{
 "cells": [
  {
   "cell_type": "code",
   "execution_count": 296,
   "metadata": {},
   "outputs": [
    {
     "name": "stdout",
     "output_type": "stream",
     "text": [
      "1D2S#10S\n"
     ]
    }
   ],
   "source": [
    "first = str(input())"
   ]
  },
  {
   "cell_type": "code",
   "execution_count": 358,
   "metadata": {},
   "outputs": [],
   "source": [
    "first2=list(first)"
   ]
  },
  {
   "cell_type": "code",
   "execution_count": 359,
   "metadata": {},
   "outputs": [
    {
     "data": {
      "text/plain": [
       "['1', 'D', '', '2', 'S', '#', '1', '0', 'S']"
      ]
     },
     "execution_count": 359,
     "metadata": {},
     "output_type": "execute_result"
    }
   ],
   "source": [
    "if first[2] != '*' and first[2] != '#':\n",
    "    first2.insert(2, '')\n",
    "first2"
   ]
  },
  {
   "cell_type": "code",
   "execution_count": 360,
   "metadata": {},
   "outputs": [
    {
     "data": {
      "text/plain": [
       "['1', 'D', '', '2', 'S', '#', '1', '0', 'S']"
      ]
     },
     "execution_count": 360,
     "metadata": {},
     "output_type": "execute_result"
    }
   ],
   "source": [
    "if first[4] != '*' and first[4] != '#':\n",
    "    first2.insert(5, '')\n",
    "first2"
   ]
  },
  {
   "cell_type": "code",
   "execution_count": 361,
   "metadata": {},
   "outputs": [
    {
     "data": {
      "text/plain": [
       "['1', 'D', '', '2', 'S', '#', '1', '0', 'S']"
      ]
     },
     "execution_count": 361,
     "metadata": {},
     "output_type": "execute_result"
    }
   ],
   "source": [
    "if len(first2) != 9:\n",
    "        first2.append('')\n",
    "first2"
   ]
  },
  {
   "cell_type": "code",
   "execution_count": 362,
   "metadata": {
    "collapsed": true
   },
   "outputs": [],
   "source": [
    "if first2[1] != 'D' and first2[1] != 'S' and first2[1] != 'T':\n",
    "    first2[0]=first2[0]+first2[1]\n",
    "    del first2[1]"
   ]
  },
  {
   "cell_type": "code",
   "execution_count": 363,
   "metadata": {},
   "outputs": [
    {
     "data": {
      "text/plain": [
       "['1', 'D', '', '2', 'S', '#', '1', '0', 'S']"
      ]
     },
     "execution_count": 363,
     "metadata": {},
     "output_type": "execute_result"
    }
   ],
   "source": [
    "first2"
   ]
  },
  {
   "cell_type": "code",
   "execution_count": 364,
   "metadata": {
    "collapsed": true
   },
   "outputs": [],
   "source": [
    "if first2[4] != 'D' and first2[4] != 'S' and first2[4] != 'T':\n",
    "    first2[3]=first2[3]+first2[4]\n",
    "    del first2[4]"
   ]
  },
  {
   "cell_type": "code",
   "execution_count": 365,
   "metadata": {},
   "outputs": [
    {
     "data": {
      "text/plain": [
       "['1', 'D', '', '2', 'S', '#', '1', '0', 'S']"
      ]
     },
     "execution_count": 365,
     "metadata": {},
     "output_type": "execute_result"
    }
   ],
   "source": [
    "first2"
   ]
  },
  {
   "cell_type": "code",
   "execution_count": 366,
   "metadata": {},
   "outputs": [],
   "source": [
    "if first2[7] != 'D' and first2[7] != 'S' and first2[7] != 'T':\n",
    "    first2[6]=first2[6]+first2[7]\n",
    "    del first2[7]"
   ]
  },
  {
   "cell_type": "code",
   "execution_count": 367,
   "metadata": {},
   "outputs": [
    {
     "data": {
      "text/plain": [
       "['1', 'D', '', '2', 'S', '#', '10', 'S']"
      ]
     },
     "execution_count": 367,
     "metadata": {},
     "output_type": "execute_result"
    }
   ],
   "source": [
    "first2"
   ]
  },
  {
   "cell_type": "code",
   "execution_count": 368,
   "metadata": {},
   "outputs": [
    {
     "data": {
      "text/plain": [
       "['1', 'D', '', '2', 'S', '#', '10', 'S', '']"
      ]
     },
     "execution_count": 368,
     "metadata": {},
     "output_type": "execute_result"
    }
   ],
   "source": [
    "if len(first2) != 9:\n",
    "        first2.append('')\n",
    "first2"
   ]
  },
  {
   "cell_type": "code",
   "execution_count": 369,
   "metadata": {},
   "outputs": [],
   "source": [
    "if first2[1] == 'S':\n",
    "    if first2[2] == '*':\n",
    "        answer1 = (int(first2[0])**1)*2\n",
    "    elif first2[2] == '#':\n",
    "        answer1 = (int(first2[0])**1)*(-1)\n",
    "    else:\n",
    "        answer1 = int(first2[0])**1\n",
    "elif first2[1] == 'D':\n",
    "    if first2[2] == '*':\n",
    "        answer1 = (int(first2[0])**2)*2\n",
    "    elif first2[2] == '#':\n",
    "        answer1 = (int(first2[0])**2)*(-1)\n",
    "    else:\n",
    "        answer1 = int(first2[0])**2\n",
    "elif first2[1] == 'T':\n",
    "    if first2[2] == '*':\n",
    "        answer1 = (int(first2[0])**3)*2\n",
    "    elif first2[2] == '#':\n",
    "        answer1 = (int(first2[0])**3)*(-1)\n",
    "    else:\n",
    "        answer1 = int(first2[0])**3"
   ]
  },
  {
   "cell_type": "code",
   "execution_count": 370,
   "metadata": {},
   "outputs": [
    {
     "data": {
      "text/plain": [
       "1"
      ]
     },
     "execution_count": 370,
     "metadata": {},
     "output_type": "execute_result"
    }
   ],
   "source": [
    "answer1"
   ]
  },
  {
   "cell_type": "code",
   "execution_count": 371,
   "metadata": {},
   "outputs": [],
   "source": [
    "if first2[4] == 'S':\n",
    "    if first2[5] == '*':\n",
    "        answer2 = (int(first2[3])**1)*2\n",
    "        answer1 = answer1*2\n",
    "    elif first2[5] == '#':\n",
    "        answer2 = (int(first2[3])**1)*(-1)\n",
    "    else:\n",
    "        answer2 = int(first2[3])**1\n",
    "elif first2[4] == 'D':\n",
    "    if first2[5] == '*':\n",
    "        answer2 = (int(first2[3])**2)*2\n",
    "        answer1 = answer1*2\n",
    "    elif first2[5] == '#':\n",
    "        answer2 = (int(first2[3])**2)*(-1)\n",
    "    else:\n",
    "        answer2 = int(first2[3])**2\n",
    "elif first2[4] == 'T':\n",
    "    if first2[5] == '*':\n",
    "        answer2 = (int(first2[3])**2)*3\n",
    "        answer1 = answer1*2\n",
    "    elif first2[5] == '#':\n",
    "        answer2 = (int(first2[3])**3)*(-1)\n",
    "    else:\n",
    "        answer2 = int(first2[3])**3"
   ]
  },
  {
   "cell_type": "code",
   "execution_count": 372,
   "metadata": {},
   "outputs": [
    {
     "name": "stdout",
     "output_type": "stream",
     "text": [
      "1\n",
      "-2\n"
     ]
    }
   ],
   "source": [
    "print(answer1)\n",
    "print(answer2)"
   ]
  },
  {
   "cell_type": "code",
   "execution_count": 373,
   "metadata": {},
   "outputs": [],
   "source": [
    "if first2[7] == 'S':\n",
    "    if first2[8] == '*':\n",
    "        answer3 = (int(first2[6])**1)*2\n",
    "        answer2 = answer2*2\n",
    "    elif first2[8] == '#':\n",
    "        answer3 = (int(first2[6])**1)*(-1)\n",
    "    else:\n",
    "        answer3 = int(first2[6])**1\n",
    "elif first2[7] == 'D':\n",
    "    if first2[8] == '*':\n",
    "        answer3 = int(first2[6]**2)*2\n",
    "        answer2 = answer2*2\n",
    "    elif first2[8] == '#':\n",
    "        answer3 = int(first2[6]**2)*(-1)\n",
    "    else:\n",
    "        answer3 = int(first2[6])**2\n",
    "elif first2[7] == 'T':\n",
    "    if first2[8] == '*':\n",
    "        answer3 = (int(first2[6])**3)*2\n",
    "        answer2 = answer2*2\n",
    "    elif first2[8] == '#':\n",
    "        answer3 = (int(first2[6])**3)*(-1)\n",
    "    else:\n",
    "        answer3 = int(first2[6])**3"
   ]
  },
  {
   "cell_type": "code",
   "execution_count": 374,
   "metadata": {},
   "outputs": [
    {
     "data": {
      "text/plain": [
       "10"
      ]
     },
     "execution_count": 374,
     "metadata": {},
     "output_type": "execute_result"
    }
   ],
   "source": [
    "answer3"
   ]
  },
  {
   "cell_type": "code",
   "execution_count": 375,
   "metadata": {
    "collapsed": true
   },
   "outputs": [],
   "source": [
    "final = answer1 + answer2 + answer3"
   ]
  },
  {
   "cell_type": "code",
   "execution_count": 376,
   "metadata": {},
   "outputs": [
    {
     "data": {
      "text/plain": [
       "9"
      ]
     },
     "execution_count": 376,
     "metadata": {},
     "output_type": "execute_result"
    }
   ],
   "source": [
    "final"
   ]
  },
  {
   "cell_type": "code",
   "execution_count": null,
   "metadata": {
    "collapsed": true
   },
   "outputs": [],
   "source": []
  }
 ],
 "metadata": {
  "kernelspec": {
   "display_name": "Python 3",
   "language": "python",
   "name": "python3"
  },
  "language_info": {
   "codemirror_mode": {
    "name": "ipython",
    "version": 3
   },
   "file_extension": ".py",
   "mimetype": "text/x-python",
   "name": "python",
   "nbconvert_exporter": "python",
   "pygments_lexer": "ipython3",
   "version": "3.6.4"
  }
 },
 "nbformat": 4,
 "nbformat_minor": 2
}
