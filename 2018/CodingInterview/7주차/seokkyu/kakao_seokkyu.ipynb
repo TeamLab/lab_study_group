{
 "cells": [
  {
   "cell_type": "markdown",
   "metadata": {},
   "source": [
    "## 비밀지도"
   ]
  },
  {
   "cell_type": "code",
   "execution_count": 36,
   "metadata": {},
   "outputs": [
    {
     "data": {
      "text/plain": [
       "['#####', '# # #', '### #', '#  ##', '#####']"
      ]
     },
     "execution_count": 36,
     "metadata": {},
     "output_type": "execute_result"
    }
   ],
   "source": [
    "arr1 = [9,20,28,18,11]\n",
    "arr2 = [30,1,21,17,28]\n",
    "def get_map(arr):\n",
    "    map_arr = []\n",
    "    for i in arr:\n",
    "        map_num = bin(i)[2:]\n",
    "        if len(arr1)-len(map_num) != 0:\n",
    "            for l in range(len(arr1)-len(map_num)):\n",
    "                map_num = \"0\" + map_num\n",
    "            map_arr.append(map_num)\n",
    "        else:\n",
    "            map_arr.append(map_num)\n",
    "    return map_arr\n",
    "\n",
    "def secret_map(map1, map2):\n",
    "    secret_map = []\n",
    "    for t in zip(map1,map2):\n",
    "        secret_row = \"\"\n",
    "        for j in range(len(map1)):\n",
    "            if int(t[0][j])+int(t[1][j]) > 0:\n",
    "                secret_row += \"#\"\n",
    "            else:\n",
    "                secret_row += \" \"\n",
    "        secret_map.append(secret_row)\n",
    "    return secret_map\n",
    "            \n",
    "map1 = get_map(arr1)\n",
    "map2 = get_map(arr2)\n",
    "secret_map(map1,map2)\n",
    "    "
   ]
  },
  {
   "cell_type": "markdown",
   "metadata": {},
   "source": [
    "## 다트게임"
   ]
  },
  {
   "cell_type": "code",
   "execution_count": 113,
   "metadata": {},
   "outputs": [
    {
     "data": {
      "text/plain": [
       "59"
      ]
     },
     "execution_count": 113,
     "metadata": {},
     "output_type": "execute_result"
    }
   ],
   "source": [
    "def S(num):\n",
    "    return num**1\n",
    "def D(num):\n",
    "    return num**2\n",
    "def T(num):\n",
    "    return num**3\n",
    "def dart_game(dart):\n",
    "    score_list = [\"S\",\"D\",\"T\"]\n",
    "    sang_list = [\"*\",\"#\"]\n",
    "    num=[]\n",
    "    score=[]\n",
    "    for i in dart:\n",
    "        if i.isdigit():\n",
    "            num.append(i)\n",
    "        if i in score_list:\n",
    "            score.append(i)\n",
    "        if i in sang_list:\n",
    "            sang.append(i)\n",
    "    result  = []\n",
    "    for idx in range(len(num)):\n",
    "        if score[idx] == \"S\":\n",
    "            result.append(S(int(num[idx])))\n",
    "        if score[idx] == \"D\":\n",
    "            result.append(D(int(num[idx])))\n",
    "        if score[idx] == \"T\":\n",
    "            result.append(T(int(num[idx])))\n",
    "    for i in range(len(sang)):\n",
    "        bonus = sang.pop(0)\n",
    "        bodex = dart.index(bonus)\n",
    "        if bonus == \"*\":\n",
    "            if bodex//2-1 != 0:\n",
    "                result[bodex//2-1] = result[bodex//2-1]*2\n",
    "                result[bodex//2-2] = result[bodex//2-2]*2\n",
    "            else:\n",
    "                result[bodex//2-1] = result[bodex//2-1]*2\n",
    "        else:\n",
    "            result[bodex//2-1] = result[bodex//2-1]*(-1)\n",
    "        dart = dart.replace(\"*\",\"x\",1)\n",
    "    return sum(result)\n",
    "dart_game(\"1D2S3T*\")"
   ]
  },
  {
   "cell_type": "markdown",
   "metadata": {},
   "source": [
    "## 캐시"
   ]
  },
  {
   "cell_type": "code",
   "execution_count": 137,
   "metadata": {},
   "outputs": [
    {
     "data": {
      "text/plain": [
       "21"
      ]
     },
     "execution_count": 137,
     "metadata": {},
     "output_type": "execute_result"
    }
   ],
   "source": [
    "a = [\"Jeju\",\"Pangyo\",\"Seoul\",\"Jeju\",\"Pangyo\",\"Seoul\",\"Jeju\",\"Pangyo\",\"Seoul\"]\n",
    "size = 3\n",
    "def lru_cache(cities, size):\n",
    "    cache = a[:size]\n",
    "    runtime = 0\n",
    "    runtime += size*5\n",
    "    rest = a[3:]\n",
    "    for i in rest:\n",
    "        if i not in cache:\n",
    "            cache.append(i)\n",
    "            cache.pop(0)\n",
    "            runtime += 5\n",
    "        else:\n",
    "            runtime += 1\n",
    "    return runtime\n",
    "lru_cache(a, size)"
   ]
  }
 ],
 "metadata": {
  "kernelspec": {
   "display_name": "Python 3",
   "language": "python",
   "name": "python3"
  },
  "language_info": {
   "codemirror_mode": {
    "name": "ipython",
    "version": 3
   },
   "file_extension": ".py",
   "mimetype": "text/x-python",
   "name": "python",
   "nbconvert_exporter": "python",
   "pygments_lexer": "ipython3",
   "version": "3.5.4"
  }
 },
 "nbformat": 4,
 "nbformat_minor": 2
}
