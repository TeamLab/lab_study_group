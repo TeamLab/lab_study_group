{
 "cells": [
  {
   "cell_type": "code",
   "execution_count": 11,
   "metadata": {
    "collapsed": false,
    "deletable": true,
    "editable": true
   },
   "outputs": [
    {
     "name": "stdout",
     "output_type": "stream",
     "text": [
      "7 7\n",
      "2 0 0 0 1 1 0\n",
      "0 0 1 0 1 2 0\n",
      "0 1 1 0 1 0 0\n",
      "0 1 0 0 0 0 0\n",
      "0 0 0 0 0 1 1\n",
      "0 1 0 0 0 0 0\n",
      "0 1 0 0 0 0 0\n",
      "(7, 7, [[2, 0, 0, 0, 1, 1, 0], [0, 0, 1, 0, 1, 2, 0], [0, 1, 1, 0, 1, 0, 0], [0, 1, 0, 0, 0, 0, 0], [0, 0, 0, 0, 0, 1, 1], [0, 1, 0, 0, 0, 0, 0], [0, 1, 0, 0, 0, 0, 0]])\n"
     ]
    }
   ],
   "source": [
    "def virus(n,m, shape):\n",
    "    \n",
    "    return n,m,shape\n",
    "n,m = map(int,input().split())\n",
    "shape = [list(map(int,input().split()))for i in range(n)]\n",
    "print(virus(n,m,shape))"
   ]
  },
  {
   "cell_type": "code",
   "execution_count": 7,
   "metadata": {
    "collapsed": false,
    "deletable": true,
    "editable": true
   },
   "outputs": [
    {
     "name": "stdout",
     "output_type": "stream",
     "text": [
      "[[2, 0, 0, 0, 0, 0, 0], [0, 0, 1, 1, 0, 1, 1], [0, 1, 1, 0, 0, 0, 0], [0, 0, 0, 0, 0, 0, 0], [1, 1, 1, 0, 0, 0, 0], [1, 2, 0, 0, 1, 0, 0], [0, 0, 0, 0, 1, 0, 0]]\n"
     ]
    }
   ],
   "source": [
    "shape = [[2, 0, 0, 0, 1, 1, 0], [0, 0, 1, 0, 1, 2, 0], [0, 1, 1, 0, 1, 0, 0], [0, 1, 0, 0, 0, 0, 0], [0, 0, 0, 0, 0, 1, 1], [0, 1, 0, 0, 0, 0, 0], [0, 1, 0, 0, 0, 0, 0]]\n",
    "print([list(i)for i in zip(*shape)])\n",
    "# print(shape,axis = 1)"
   ]
  },
  {
   "cell_type": "code",
   "execution_count": 170,
   "metadata": {
    "collapsed": false,
    "deletable": true,
    "editable": true
   },
   "outputs": [
    {
     "name": "stdout",
     "output_type": "stream",
     "text": [
      "[2, 5, 5, 5, 1, 1, 0]\n"
     ]
    }
   ],
   "source": [
    "import itertools\n",
    "import copy\n",
    "wall = [1,1,1]\n",
    "n = int(7)\n",
    "m = int(7)\n",
    "shape = [[2, 0, 0, 0, 1, 1, 0], [0, 0, 1, 0, 1, 2, 0], [0, 1, 1, 0, 1, 0, 0], [0, 1, 0, 0, 0, 0, 0], [0, 0, 0, 0, 0, 1, 1], [0, 1, 0, 0, 0, 0, 0], [0, 1, 0, 0, 0, 0, 0]]\n",
    "zero_list = []\n",
    "\n",
    "for i in range(n):\n",
    "    for j in range(m):\n",
    "        if shape[i][j] == 0:\n",
    "            zero_list.append([i,j])\n",
    "walls = list(itertools.permutations(zero_list,3))\n",
    "fake_shape = copy.deepcopy(shape)\n",
    "permutated_wall = []\n",
    "\n",
    "for i in walls:\n",
    "    for j in i:\n",
    "        fake_shape[j[0]][j[1]] = int(1)\n",
    "    permutated_wall.append(fake_shape)\n",
    "    fake_shape = copy.deepcopy(shape)\n",
    "    ##########\n",
    "for i in range(len(permutated_wall)):\n",
    "    for j in range(len(permutated_wall[i])):\n",
    "        if 2 in permutated_wall[i][j]:\n",
    "            if 0 == permutated_wall[i][j] or  0== permutated_wall[i][j+1]  :\n",
    "            permutated_wall[i][j-1]\n",
    "# print(permutated_wall[0][0])"
   ]
  },
  {
   "cell_type": "code",
   "execution_count": 213,
   "metadata": {
    "collapsed": false,
    "deletable": true,
    "editable": true,
    "scrolled": true
   },
   "outputs": [
    {
     "name": "stdout",
     "output_type": "stream",
     "text": [
      "[[2, 1, 1, 0, 1, 1, 1], [0, 0, 1, 0, 1, 2, 0], [0, 1, 1, 0, 1, 0, 0], [0, 1, 0, 0, 0, 0, 0], [0, 0, 0, 0, 0, 1, 1], [0, 1, 0, 0, 0, 0, 0], [0, 1, 0, 0, 0, 0, 0]]\n"
     ]
    }
   ],
   "source": [
    "import itertools\n",
    "import copy\n",
    "wall = [1,1,1]\n",
    "n = int(7)\n",
    "m = int(7)\n",
    "shape = [[2, 0, 0, 0, 1, 1, 0], [0, 0, 1, 0, 1, 2, 0], [0, 1, 1, 0, 1, 0, 0], [0, 1, 0, 0, 0, 0, 0], [0, 0, 0, 0, 0, 1, 1], [0, 1, 0, 0, 0, 0, 0], [0, 1, 0, 0, 0, 0, 0]]\n",
    "zero_list = []\n",
    "\n",
    "for i in range(n):\n",
    "    for j in range(m):\n",
    "        if shape[i][j] == 0:\n",
    "            zero_list.append([i,j])\n",
    "walls = list(itertools.permutations(zero_list,3))\n",
    "fake_shape = copy.deepcopy(shape)\n",
    "permutated_wall = []\n",
    "zipped = []\n",
    "for i in walls:\n",
    "    for j in i:\n",
    "        fake_shape[j[0]][j[1]] = int(1)\n",
    "    permutated_wall.append(fake_shape)\n",
    "    zipped.append([list(a)for a in zip(*fake_shape)])\n",
    "    fake_shape = copy.deepcopy(shape)\n",
    "    \n",
    "# for i in range(len(permutated_wall[0])):\n",
    "#     try:\n",
    "#         index = permutated_wall[0][i].index(2)\n",
    "#         while index<n and permutated_wall[0][i][index] != int(1):\n",
    "#             permutated_wall[0][i][index] = 2\n",
    "#             index += 1\n",
    "#     except:\n",
    "#         ValueError\n",
    "        \n",
    "# for i in range(len(zipped[0])):\n",
    "#     try:\n",
    "#         index_2 = zipped[0][i].index(2)\n",
    "#         while index_2< m and zipped[0][i][index_2] != int(1):\n",
    "#             zipped[0][i][index_2] = 2\n",
    "#             index_2 += 1\n",
    "#     except:\n",
    "#         ValueError\n",
    "# sec_zip = [list(i) for i in list(zip(*zipped[0]))]\n",
    "# for i in range(len(sec_zip[0])):\n",
    "#     try:\n",
    "#         index_3 = sec_zip[0][i].index(2)\n",
    "#         while index_3<n and sec_zip[0][i][index_3] != int(1):\n",
    "#             sec_zip[0][i][index_3] = 2\n",
    "#             index_3 += 1\n",
    "#     except:\n",
    "#         ValueError\n",
    "#         pass\n",
    "# zipped[0][0][0] = 5000\n",
    "# # print(list(zip(*permutated_wall[0])))\n",
    "# print(zipped, permutated_wall[0])\n",
    "# print(permutated_wall[0])\n",
    "print(permutated_wall[1])\n",
    "# print(sec_zip[0])\n",
    "# print(zipped[0][0].index(2))\n",
    "#[[2, 1, 1, 1, 1, 1, 0], [0, 0, 1, 0, 1, 2, 0], [0, 1, 1, 0, 1, 0, 0], [0, 1, 0, 0, 0, 0, 0], [0, 0, 0, 0, 0, 1, 1], [0, 1, 0, 0, 0, 0, 0], [0, 1, 0, 0, 0, 0, 0]]"
   ]
  },
  {
   "cell_type": "code",
   "execution_count": 76,
   "metadata": {
    "collapsed": false,
    "deletable": true,
    "editable": true
   },
   "outputs": [
    {
     "name": "stdout",
     "output_type": "stream",
     "text": [
      "[[2, 0, 0, 0, 0, 0, 0], [1, 0, 1, 1, 0, 1, 1], [1, 1, 1, 0, 0, 0, 0], [1, 0, 0, 0, 0, 0, 0], [1, 1, 1, 0, 0, 0, 0], [1, 2, 2, 2, 2, 2, 2], [0, 0, 0, 0, 1, 0, 0]]\n"
     ]
    }
   ],
   "source": [
    "import itertools\n",
    "import copy\n",
    "wall = [1,1,1]\n",
    "n = int(7)\n",
    "m = int(7)\n",
    "shape = [[2, 0, 0, 0, 1, 1, 0], [0, 0, 1, 0, 1, 2, 0], [0, 1, 1, 0, 1, 0, 0], [0, 1, 0, 0, 0, 0, 0], [0, 0, 0, 0, 0, 1, 1], [0, 1, 0, 0, 0, 0, 0], [0, 1, 0, 0, 0, 0, 0]]\n",
    "zero_list = []\n",
    "\n",
    "for i in range(n):\n",
    "    for j in range(m):\n",
    "        if shape[i][j] == 0:\n",
    "            zero_list.append([i,j])\n",
    "            \n",
    "walls = list(itertools.permutations(zero_list,3))\n",
    "fake_shape = copy.deepcopy(shape)\n",
    "permutated_wall = []\n",
    "zipped = []\n",
    "# sec_zip = []\n",
    "for i in walls:\n",
    "    for j in i:\n",
    "        fake_shape[j[0]][j[1]] = int(1)\n",
    "    permutated_wall.append(fake_shape)\n",
    "    zipped.append([list(a)for a in zip(*fake_shape)])\n",
    "    fake_shape = copy.deepcopy(shape)\n",
    "    \n",
    "for i in range(len(permutated_wall[0])):\n",
    "    try:\n",
    "        index2 = permutated_wall[0][i].index(2)\n",
    "        index1 = permutated_wall[0][i].index(1)\n",
    "        if index1 - index2 > 0:\n",
    "            permutated_wall[0][i][index2:index1] = [2]*(index1-index2)\n",
    "        else:\n",
    "            permutated_wall[0][i][index2:] = [2]*(len(permutated_wall[0][i][index2:]))\n",
    "    except:\n",
    "        ValueError\n",
    "for j in range(len(zipped[0])):\n",
    "    try:\n",
    "        index22 = zipped[0][j].index(2)\n",
    "        index11= zipped[0][j].index(1)\n",
    "        if index11 - index22 > 0:\n",
    "            zipped[0][j][index22:index11] = [2]*(index22-index11)\n",
    "        else:\n",
    "            zipped[0][j][index22:] = [2]*(m-index22)\n",
    "    except:\n",
    "        ValueError\n",
    "#         zipped[0][j][index22:] = [2]*(m-index22)\n",
    "    \n",
    "print(zipped[0])"
   ]
  },
  {
   "cell_type": "raw",
   "metadata": {
    "collapsed": false,
    "deletable": true,
    "editable": true
   },
   "source": [
    "import itertools\n",
    "import copy\n",
    "wall = [1,1,1]\n",
    "n = int(7)\n",
    "m = int(7)\n",
    "shape = [[2, 0, 0, 0, 1, 1, 0], [0, 0, 1, 0, 1, 2, 0], [0, 1, 1, 0, 1, 0, 0], [0, 1, 0, 0, 0, 0, 0], [0, 0, 0, 0, 0, 1, 1], [0, 1, 0, 0, 0, 0, 0], [0, 1, 0, 0, 0, 0, 0]]\n",
    "zero_list = []\n",
    "\n",
    "for i in range(n):\n",
    "    for j in range(m):\n",
    "        if shape[i][j] == 0:\n",
    "            zero_list.append([i,j])\n",
    "walls = list(itertools.permutations(zero_list,3))\n",
    "fake_shape = copy.deepcopy(shape)\n",
    "\n",
    "foo = []\n",
    "for i in walls:\n",
    "    for j in i:\n",
    "        fake_shape[j[0]][j[1]] = int(1)\n",
    "    if fake_shape[i]\n"
   ]
  },
  {
   "cell_type": "code",
   "execution_count": 72,
   "metadata": {
    "collapsed": false,
    "deletable": true,
    "editable": true
   },
   "outputs": [
    {
     "name": "stdout",
     "output_type": "stream",
     "text": [
      "[7, 7, 7, 7, 7, 7, 7]\n"
     ]
    }
   ],
   "source": [
    "shape = [[2, 0, 0, 0, 1, 1, 0], [0, 0, 1, 0, 1, 2, 0], [0, 1, 1, 0, 1, 0, 0], [0, 1, 0, 0, 0, 0, 0], [0, 0, 0, 0, 0, 1, 1], [0, 1, 0, 0, 0, 0, 0], [0, 1, 0, 0, 0, 0, 0]]\n",
    "# a = list(zip(*shape))\n",
    "# a.replace(\"()\",\"[]\")\n",
    "a = [2, 0, 0, 0, 0, 0, 0]\n",
    "# shape[0][1:4] = [5] *3\n",
    "# print(shape[0])\n",
    "a[0:] = [7]*len(a[0:])\n",
    "print(a)"
   ]
  },
  {
   "cell_type": "code",
   "execution_count": 142,
   "metadata": {
    "collapsed": false,
    "deletable": true,
    "editable": true
   },
   "outputs": [
    {
     "name": "stdout",
     "output_type": "stream",
     "text": [
      "[[2, 1, 0, 0, 1, 1, 0], [0, 0, 1, 0, 1, 2, 2], [2, 1, 1, 0, 1, 0, 0], [0, 1, 0, 0, 1, 2, 0], [2, 1, 0, 0, 0, 1, 1], [2, 1, 0, 0, 0, 2, 2], [0, 1, 0, 0, 0, 0, 0]]\n"
     ]
    }
   ],
   "source": [
    "# p = [[2, 1, 1, 1, 1, 1, 0], [0, 0, 1, 0, 1, 2, 0], [0, 1, 1, 0, 1, 0, 0], [0, 1, 0, 0, 0, 0, 0], [0, 0, 0, 0, 0, 1, 1], [0, 1, 0, 0, 0, 0, 0], [0, 1, 0, 0, 0, 0, 0]]\n",
    "p = [[2, 1, 0, 0, 1, 1, 0], [0, 0, 1, 0, 1, 2, 0], [0, 1, 1, 0, 1, 0, 0], [0, 1, 0, 0, 1, 0, 0], [0, 1, 0, 0, 0, 1, 1], [0, 1, 0, 0, 0, 0, 0], [0, 1, 0, 0, 0, 0, 0]]\n",
    "# p = [[2, 1, 1, 0, 1, 1, 1], [0, 0, 1, 0, 1, 2, 0], [0, 1, 1, 0, 1, 0, 0], [0, 1, 0, 0, 0, 0, 0], [0, 0, 0, 0, 0, 1, 1], [0, 1, 0, 0, 0, 0, 0], [0, 1, 0, 0, 0, 0, 0]]\n",
    "z = [list(i) for i in list(zip(*p))]\n",
    "for i in range(6):\n",
    "    for j in range(6):\n",
    "        if p[i][j] == 2 and p[i][j+1] !=1 :\n",
    "            p[i][j+1] = 2\n",
    "#         elif p[i][j] == 2 and p[i+1][j] !=1 :\n",
    "#             p[i+1][j] = 2\n",
    "        elif p[i][j] != 1 and p[i+1][j] ==2 :\n",
    "            p[i][j] = 2\n",
    "        elif p[i][j-2] != 1 and p[i][j] == 2 :\n",
    "            p[i][j-2] = 2\n",
    "        elif p[i][j] == 2 and p[i-2][j] !=1 :\n",
    "            p[i-2][j] = 2    \n",
    "        elif p[i][j] != 1 and p[i-2][j] ==2 :\n",
    "            p[i][j] = 2\n",
    "#         elif p[i][j] == 1 and p[i][j+1] != 1:\n",
    "#             p[i][j+1] = 2\n",
    "#         elif p[i][j] != 1 and p[i][j+1] !=1:\n",
    "#             p[i][j+1] = 2\n",
    "#             p[i][j] = 2\n",
    "        else:\n",
    "            pass\n",
    "print(p)"
   ]
  },
  {
   "cell_type": "code",
   "execution_count": 169,
   "metadata": {
    "collapsed": false,
    "deletable": true,
    "editable": true
   },
   "outputs": [
    {
     "name": "stdout",
     "output_type": "stream",
     "text": [
      "0\n",
      "1\n",
      "2\n",
      "3\n",
      "4\n"
     ]
    }
   ],
   "source": [
    "a = [1,2,3,4,5]\n",
    "for i in range(5):\n",
    "    print(i)"
   ]
  }
 ],
 "metadata": {
  "kernelspec": {
   "display_name": "Python 3",
   "language": "python",
   "name": "python3"
  },
  "language_info": {
   "codemirror_mode": {
    "name": "ipython",
    "version": 3
   },
   "file_extension": ".py",
   "mimetype": "text/x-python",
   "name": "python",
   "nbconvert_exporter": "python",
   "pygments_lexer": "ipython3",
   "version": "3.6.0"
  }
 },
 "nbformat": 4,
 "nbformat_minor": 2
}
