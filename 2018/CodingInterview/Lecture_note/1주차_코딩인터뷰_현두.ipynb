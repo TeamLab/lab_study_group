{
 "cells": [
  {
   "cell_type": "code",
   "execution_count": 35,
   "metadata": {},
   "outputs": [],
   "source": [
    "def isUniqChars(str) :\n",
    "    # 각 문자가 ASCII라고 가정(총 256개)\n",
    "    # 맨약 문자열이 256보다 길면 중복이 있다.\n",
    "    if len(str) > 256 :\n",
    "        return False\n",
    "    # boolean 배열 초기화\n",
    "    hash = [False] * 256\n",
    "    \n",
    "    for ch in str :\n",
    "        # boolean 배열이 True이면 중복이 있음\n",
    "        if hash[ord(ch)] is True :  ## ord함수는 문자를 ascii코드로 변환하는 함수\n",
    "            return False\n",
    "        # boolean 배열이 False이면 아직 중복이 없음\n",
    "        else :\n",
    "            hash[ord(ch)] = True\n",
    "    return True"
   ]
  },
  {
   "cell_type": "code",
   "execution_count": 36,
   "metadata": {},
   "outputs": [],
   "source": [
    "def my_isUniqChars(str) :\n",
    "    # set함수를 이용하여 중복된 문자를 제거한 후 길이를 비교하여 길이가 달라지면 False\n",
    "    return len(set(str)) == len(str)"
   ]
  },
  {
   "cell_type": "code",
   "execution_count": 39,
   "metadata": {},
   "outputs": [
    {
     "name": "stdout",
     "output_type": "stream",
     "text": [
      "False False True True\n"
     ]
    }
   ],
   "source": [
    "print(isUniqChars('abcdea'), my_isUniqChars('abcdea'),\n",
    "      isUniqChars('abecspi'), my_isUniqChars('abecspi'))"
   ]
  },
  {
   "cell_type": "code",
   "execution_count": 3,
   "metadata": {},
   "outputs": [],
   "source": [
    "def reverseString2(str) :\n",
    "    stack = []\n",
    "    for ch in str :\n",
    "        stack.append(ch)\n",
    "    result = \"\"\n",
    "    while len(stack) > 0 :\n",
    "        result += stack.pop()\n",
    "    return result"
   ]
  },
  {
   "cell_type": "code",
   "execution_count": 7,
   "metadata": {},
   "outputs": [],
   "source": [
    "def my_reverseString2(str) :\n",
    "    stack = [ch for ch in str]\n",
    "    result = [stack.pop() for _ in range(len(str))]\n",
    "    return ''.join(result)"
   ]
  },
  {
   "cell_type": "code",
   "execution_count": 40,
   "metadata": {},
   "outputs": [
    {
     "name": "stdout",
     "output_type": "stream",
     "text": [
      "edcba edcba 라다나가 라다나가\n"
     ]
    }
   ],
   "source": [
    "print(reverseString2('abcde'), my_reverseString2('abcde'),\n",
    "      reverseString2('가나다라'), my_reverseString2('가나다라'))"
   ]
  },
  {
   "cell_type": "code",
   "execution_count": 9,
   "metadata": {},
   "outputs": [],
   "source": [
    "def anagram(str1, str2) :\n",
    "    if ''.join(sorted(str1.lower())).strip() == ''.join(sorted(str2.lower())).strip() :\n",
    "        return True\n",
    "    else :\n",
    "        return False"
   ]
  },
  {
   "cell_type": "code",
   "execution_count": 42,
   "metadata": {},
   "outputs": [
    {
     "name": "stdout",
     "output_type": "stream",
     "text": [
      "True True True\n"
     ]
    }
   ],
   "source": [
    "print(anagram('LISTEN', 'SILENT'), anagram('LIsTEN', 'SILeNT'), anagram('LIsT EN', 'SILe NT'))"
   ]
  },
  {
   "cell_type": "code",
   "execution_count": 10,
   "metadata": {},
   "outputs": [],
   "source": [
    "def replace_space(str) :\n",
    "    return str.strip().replace(' ', '%20')"
   ]
  },
  {
   "cell_type": "code",
   "execution_count": 43,
   "metadata": {},
   "outputs": [
    {
     "data": {
      "text/plain": [
       "'Mr%20John%20Smith'"
      ]
     },
     "execution_count": 43,
     "metadata": {},
     "output_type": "execute_result"
    }
   ],
   "source": [
    "replace_space('Mr John Smith  ')"
   ]
  },
  {
   "cell_type": "code",
   "execution_count": 56,
   "metadata": {},
   "outputs": [],
   "source": [
    "def compressword(input) :\n",
    "    buffer = None\n",
    "    output = ''\n",
    "    cnt = 1\n",
    "    for ch in input :\n",
    "        if buffer is None :\n",
    "            output += ch\n",
    "            buffer = ch\n",
    "        else :\n",
    "            if buffer == ch :\n",
    "                cnt += 1\n",
    "            else :\n",
    "                output += str(cnt)\n",
    "                cnt = 1\n",
    "                output += ch\n",
    "                buffer = ch\n",
    "    output += str(cnt)\n",
    "    \n",
    "    if len(output) > len(input) :\n",
    "        return input\n",
    "    else :\n",
    "        return output"
   ]
  },
  {
   "cell_type": "code",
   "execution_count": 57,
   "metadata": {},
   "outputs": [],
   "source": [
    "def my_compressword(input) :\n",
    "    idx = 0\n",
    "    count = 1\n",
    "    result = []\n",
    "    for ch in input[1:] :\n",
    "        if ch == input[idx] :\n",
    "            count += 1\n",
    "        else :\n",
    "            result.extend([input[idx], str(count)])\n",
    "            count = 1\n",
    "        idx += 1\n",
    "    result.extend([input[idx], str(count)])\n",
    "    if len(result) > len(input) :\n",
    "        return input\n",
    "    return ''.join(result)"
   ]
  },
  {
   "cell_type": "code",
   "execution_count": 58,
   "metadata": {},
   "outputs": [
    {
     "name": "stdout",
     "output_type": "stream",
     "text": [
      "a2b1c4a2 a2b1c4a2 s3e1i2a2d5 s3e1i2a2d5\n"
     ]
    }
   ],
   "source": [
    "print(compressword('aabccccaa'), my_compressword('aabccccaa'),\n",
    "     compressword('ssseiiaaddddd'), my_compressword('ssseiiaaddddd'))"
   ]
  }
 ],
 "metadata": {
  "kernelspec": {
   "display_name": "Python 3",
   "language": "python",
   "name": "python3"
  },
  "language_info": {
   "codemirror_mode": {
    "name": "ipython",
    "version": 3
   },
   "file_extension": ".py",
   "mimetype": "text/x-python",
   "name": "python",
   "nbconvert_exporter": "python",
   "pygments_lexer": "ipython3",
   "version": "3.6.2"
  }
 },
 "nbformat": 4,
 "nbformat_minor": 2
}
