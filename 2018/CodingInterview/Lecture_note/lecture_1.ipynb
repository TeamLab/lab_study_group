{
 "cells": [
  {
   "cell_type": "markdown",
   "metadata": {},
   "source": [
    "### Lecture 1.1\n",
    "1. 문자열 안에 문자들이 전부 유일한지를 확인하는 알고리즘\n",
    "   - [\"가\", \"나\", \"다\", \"라] -> return True\n",
    "   - [\"가\", \"가\", \"나\", \"다\"] -> return False\n",
    "\n",
    "#### process\n",
    "1. 형변환 (String to ASCII)\n",
    "2. 해쉬 생성 (해쉬의 초기값은 아스키 코드의 범위인 0~255의 길이를 가지는 리스트)\n",
    "3. 입력 리스트의 요소들을 읽어 들이면서 해쉬안에 처음 들어가는 요소라면 True 로 바꾸어준다.\n",
    "4. 만약 리스트의 요소값의 인덱스가 True 라면 중복되었다는 의미이므로 return False"
   ]
  },
  {
   "cell_type": "code",
   "execution_count": 1,
   "metadata": {},
   "outputs": [
    {
     "data": {
      "text/plain": [
       "True"
      ]
     },
     "execution_count": 1,
     "metadata": {},
     "output_type": "execute_result"
    }
   ],
   "source": [
    "def find_overlap(string):\n",
    "    # 아스키 코드로 변환\n",
    "    convert_ord = [ord(i) for i in string]\n",
    "    \n",
    "    # 아스키 코드는 0~255 의 수 : ex(\"A\":65)\n",
    "    if len(set(convert_ord)) > 255:\n",
    "        return False\n",
    "    hash = [False] * 256\n",
    "    \n",
    "    for i in convert_ord:\n",
    "        if hash[i] is True:\n",
    "            return False\n",
    "        else:\n",
    "            hash[i] = True\n",
    "    return True         \n",
    "\n",
    "input_list = ['A','B','D','F']\n",
    "find_overlap(input_list)"
   ]
  },
  {
   "cell_type": "markdown",
   "metadata": {},
   "source": [
    "### Lecture 1.2\n",
    "1. 문자열 뒤집기 알고리즘\n",
    "\n",
    "#### Method\n",
    "1. 파이썬의 reverse() 함수이용\n",
    "2. 리스트 인덱싱 사용"
   ]
  },
  {
   "cell_type": "code",
   "execution_count": 2,
   "metadata": {
    "collapsed": true
   },
   "outputs": [],
   "source": [
    "input_list = [1,2,3,4]\n",
    "def reverse_str_1(input_list):\n",
    "    input_list.reverse()\n",
    "    return input_list\n",
    "\n",
    "def reverse_str_2(input_list):\n",
    "    return input_list[::-1]"
   ]
  },
  {
   "cell_type": "markdown",
   "metadata": {},
   "source": [
    "### Lecture 1.3\n",
    "1. 두개의 문자열이 순열인지 파악하는 알고리즘 (대, 소문자는 구분하지 않는다, 중복 고려x)\n",
    "   - [\"I\" \"A\" \"E\"] , [\"A\" \"E\" \"I] -> return True \n",
    "   - [\"A\" \"A\"] , [\"B\", \"A\"] -> return False\n",
    "   \n",
    "#### Process\n",
    "1. 문자열 소문자 처리.\n",
    "2. 문자열 Sort\n",
    "3. Strip 을 이용한 공백 제거\n",
    "4. 비교 연산자\n",
    "\n",
    "#### Tip\n",
    "파이썬의 sort() 는 공백을 우선적으로 처리한다."
   ]
  },
  {
   "cell_type": "code",
   "execution_count": 3,
   "metadata": {},
   "outputs": [
    {
     "data": {
      "text/plain": [
       "True"
      ]
     },
     "execution_count": 3,
     "metadata": {},
     "output_type": "execute_result"
    }
   ],
   "source": [
    "def permutation(str_1,str_2):\n",
    "    if ''.join(sorted(list(str_1))).lower().strip() == ''.join(sorted(list(str_2))).lower().strip():\n",
    "        return True\n",
    "    else:\n",
    "        return False\n",
    "    \n",
    "permutation(\"abed\",\"abde\")    "
   ]
  },
  {
   "cell_type": "markdown",
   "metadata": {},
   "source": [
    "### Lecture 1.4\n",
    "\n",
    "1. 문자열에 공백이 있다면 \"%20\" 의 문자로 대체하기\n",
    "\n",
    "#### Method\n",
    "\n",
    "1. 파이썬 replace()"
   ]
  },
  {
   "cell_type": "code",
   "execution_count": 4,
   "metadata": {},
   "outputs": [
    {
     "data": {
      "text/plain": [
       "'열공%20하세요'"
      ]
     },
     "execution_count": 4,
     "metadata": {},
     "output_type": "execute_result"
    }
   ],
   "source": [
    "def change_str(input_str):\n",
    "    result = input_str.replace(\" \",\"%20\")\n",
    "    return result\n",
    "\n",
    "change_str(\"열공 하세요\")"
   ]
  },
  {
   "cell_type": "markdown",
   "metadata": {},
   "source": [
    "###  Lecture 1.5\n",
    "1. 같은 문자 반복횟수를 이용한 문자열 압축\n",
    "   - aabbccda -> a2b2c2d1a1\n",
    "   \n",
    "#### Process\n",
    "1. 형변환 String to List\n",
    "2. List 요소 순차적으로 읽기 (다음 Index 의 요소와 비교하기 위해 임수 변수 생성 필요)\n",
    "3. List 첫번째 요소값 처리\n",
    "4. 버퍼와 List 와의 값이 같다면 count +1\n",
    "5. 버퍼와 List 값이 다르다면 결과 리스트에 count 변수, 다음 요소값 추가, count 초기화"
   ]
  },
  {
   "cell_type": "code",
   "execution_count": 5,
   "metadata": {},
   "outputs": [
    {
     "data": {
      "text/plain": [
       "'a3b1b1c1c1d2'"
      ]
     },
     "execution_count": 5,
     "metadata": {},
     "output_type": "execute_result"
    }
   ],
   "source": [
    "def zip_str(input_str):\n",
    "    buffer = None\n",
    "    list_str = list(input_str)\n",
    "    result = []\n",
    "    count = 1\n",
    "    for i in range(len(list_str)):\n",
    "        \n",
    "        if i == 0:\n",
    "            result.append(list_str[i])\n",
    "            buffer = list_str[i]\n",
    "        else:\n",
    "            if buffer != list_str[i]:\n",
    "                result.append(str(count))\n",
    "                result.append(list_str[i])\n",
    "                count = 1\n",
    "            else:\n",
    "                count += 1\n",
    "    result.append(str(count))\n",
    "    result = \"\".join(result)\n",
    "    return result      \n",
    "\n",
    "zip_str(\"aaabbccda\")"
   ]
  }
 ],
 "metadata": {
  "kernelspec": {
   "display_name": "Python 3",
   "language": "python",
   "name": "python3"
  },
  "language_info": {
   "codemirror_mode": {
    "name": "ipython",
    "version": 3
   },
   "file_extension": ".py",
   "mimetype": "text/x-python",
   "name": "python",
   "nbconvert_exporter": "python",
   "pygments_lexer": "ipython3",
   "version": "3.5.2"
  }
 },
 "nbformat": 4,
 "nbformat_minor": 2
}
