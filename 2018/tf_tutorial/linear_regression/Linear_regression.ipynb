{
 "cells": [
  {
   "cell_type": "markdown",
   "metadata": {},
   "source": [
    "### Module Setting"
   ]
  },
  {
   "cell_type": "code",
   "execution_count": 1,
   "metadata": {
    "collapsed": true
   },
   "outputs": [],
   "source": [
    "import tensorflow as tf\n",
    "import pandas as pd\n",
    "import numpy as np\n",
    "import time"
   ]
  },
  {
   "cell_type": "markdown",
   "metadata": {},
   "source": [
    "### Read Data"
   ]
  },
  {
   "cell_type": "code",
   "execution_count": 2,
   "metadata": {},
   "outputs": [],
   "source": [
    "dataset = pd.read_csv(\"dataset.txt\")"
   ]
  },
  {
   "cell_type": "code",
   "execution_count": 3,
   "metadata": {},
   "outputs": [
    {
     "data": {
      "text/html": [
       "<div>\n",
       "<style>\n",
       "    .dataframe thead tr:only-child th {\n",
       "        text-align: right;\n",
       "    }\n",
       "\n",
       "    .dataframe thead th {\n",
       "        text-align: left;\n",
       "    }\n",
       "\n",
       "    .dataframe tbody tr th {\n",
       "        vertical-align: top;\n",
       "    }\n",
       "</style>\n",
       "<table border=\"1\" class=\"dataframe\">\n",
       "  <thead>\n",
       "    <tr style=\"text-align: right;\">\n",
       "      <th></th>\n",
       "      <th>Index</th>\n",
       "      <th>Brain_Weight</th>\n",
       "      <th>Body_Weight</th>\n",
       "    </tr>\n",
       "  </thead>\n",
       "  <tbody>\n",
       "    <tr>\n",
       "      <th>0</th>\n",
       "      <td>1</td>\n",
       "      <td>3.385</td>\n",
       "      <td>44.5</td>\n",
       "    </tr>\n",
       "    <tr>\n",
       "      <th>1</th>\n",
       "      <td>2</td>\n",
       "      <td>0.480</td>\n",
       "      <td>15.5</td>\n",
       "    </tr>\n",
       "    <tr>\n",
       "      <th>2</th>\n",
       "      <td>3</td>\n",
       "      <td>1.350</td>\n",
       "      <td>8.1</td>\n",
       "    </tr>\n",
       "    <tr>\n",
       "      <th>3</th>\n",
       "      <td>4</td>\n",
       "      <td>465.000</td>\n",
       "      <td>423.0</td>\n",
       "    </tr>\n",
       "    <tr>\n",
       "      <th>4</th>\n",
       "      <td>5</td>\n",
       "      <td>36.330</td>\n",
       "      <td>119.5</td>\n",
       "    </tr>\n",
       "  </tbody>\n",
       "</table>\n",
       "</div>"
      ],
      "text/plain": [
       "   Index  Brain_Weight  Body_Weight\n",
       "0      1         3.385         44.5\n",
       "1      2         0.480         15.5\n",
       "2      3         1.350          8.1\n",
       "3      4       465.000        423.0\n",
       "4      5        36.330        119.5"
      ]
     },
     "execution_count": 3,
     "metadata": {},
     "output_type": "execute_result"
    }
   ],
   "source": [
    "dataset.head()"
   ]
  },
  {
   "cell_type": "markdown",
   "metadata": {},
   "source": [
    "##### 위의 데이터셋을 보았을 때 어떤 전처리를 해야할까"
   ]
  },
  {
   "attachments": {},
   "cell_type": "markdown",
   "metadata": {},
   "source": [
    "![minmax.jpg](./image/minmax.jpg)"
   ]
  },
  {
   "cell_type": "code",
   "execution_count": 4,
   "metadata": {
    "collapsed": true
   },
   "outputs": [],
   "source": [
    "def minmax(data):\n",
    "    max_value = max(data)\n",
    "    min_value = min(data)\n",
    "    norm_value = (data-min_value)/ (max_value - min_value)\n",
    "    return norm_value"
   ]
  },
  {
   "cell_type": "code",
   "execution_count": 5,
   "metadata": {},
   "outputs": [],
   "source": [
    "x_data = dataset.Brain_Weight\n",
    "y_data = dataset.Body_Weight\n",
    "x_data = np.expand_dims(x_data, -1)\n",
    "y_data = np.expand_dims(y_data, -1)"
   ]
  },
  {
   "cell_type": "code",
   "execution_count": 6,
   "metadata": {},
   "outputs": [],
   "source": [
    "# data normalization\n",
    "x_data = minmax(x_data)\n",
    "y_data = minmax(y_data)"
   ]
  },
  {
   "cell_type": "markdown",
   "metadata": {},
   "source": [
    "### Parameter Setting\n",
    "파라메터 세팅의 단계에선 Placeholder shape , learning rate, batch size, iteration 의 요소를 setting 한다."
   ]
  },
  {
   "cell_type": "code",
   "execution_count": 7,
   "metadata": {},
   "outputs": [],
   "source": [
    "batch_size = 20\n",
    "print_every = 10\n",
    "iteration = 100\n",
    "\n",
    "x = tf.placeholder(tf.float32, shape=[None,1])\n",
    "y = tf.placeholder(tf.float32, shape=[None,1])"
   ]
  },
  {
   "cell_type": "markdown",
   "metadata": {},
   "source": [
    "### Build model\n",
    "모델을 구현한다."
   ]
  },
  {
   "cell_type": "code",
   "execution_count": 8,
   "metadata": {},
   "outputs": [],
   "source": [
    "w = tf.get_variable(\"weight\", shape=[1,1], initializer=tf.random_normal_initializer(stddev=0.01))\n",
    "b = tf.get_variable(\"bias\", shape=[1,], initializer=tf.zeros_initializer())\n",
    "\n",
    "hypothesis = tf.nn.bias_add(tf.matmul(x,w), b)"
   ]
  },
  {
   "cell_type": "markdown",
   "metadata": {},
   "source": [
    "### Train operator"
   ]
  },
  {
   "cell_type": "code",
   "execution_count": 9,
   "metadata": {},
   "outputs": [],
   "source": [
    "cost = tf.reduce_mean(tf.square(hypothesis-y))\n",
    "optimizer = tf.train.AdamOptimizer(0.01).minimize(cost)"
   ]
  },
  {
   "cell_type": "markdown",
   "metadata": {},
   "source": [
    "### Train\n",
    "Tip : 항상 Learning time 을 측정하고 모델을 저장하는 습관을 들이자."
   ]
  },
  {
   "cell_type": "code",
   "execution_count": 10,
   "metadata": {},
   "outputs": [
    {
     "name": "stdout",
     "output_type": "stream",
     "text": [
      "cost at 1: 0.000421\n",
      "cost at 11: 0.000310\n",
      "cost at 21: 0.000209\n",
      "cost at 31: 0.000140\n",
      "cost at 41: 0.000095\n",
      "cost at 51: 0.000066\n",
      "cost at 61: 0.000050\n",
      "cost at 71: 0.000041\n",
      "cost at 81: 0.000037\n",
      "cost at 91: 0.000034\n",
      "Label :  [[ 0.00050797]]\n",
      "predict :  [[ 0.00939523]]\n",
      "학습 소요 시간 :  0.6123685836791992\n"
     ]
    }
   ],
   "source": [
    "saver = tf.train.Saver()\n",
    "\n",
    "start_time = time.time()\n",
    "with tf.Session() as sess:\n",
    "    sess.run(tf.global_variables_initializer())\n",
    "    n_batch = int(len(x_data)/batch_size)\n",
    "    for iteration in range(iteration):\n",
    "        avg_loss = 0\n",
    "        for step in range(n_batch):\n",
    "            op = sess.run(optimizer, feed_dict = {x:x_data[step*n_batch:(step+1)*n_batch], y:y_data[step*n_batch:(step+1)*n_batch]})\n",
    "            loss = sess.run(cost, feed_dict={x:x_data[step*n_batch:(step+1)*n_batch], y:y_data[step*n_batch:(step+1)*n_batch]})\n",
    "            avg_loss += loss/n_batch\n",
    "        if iteration % print_every == 0:\n",
    "            print(\"cost at %d: %f\"%(iteration+1,avg_loss))\n",
    "    \n",
    "    finish_time = time.time() - start_time\n",
    "    save_path = saver.save(sess, \"./model/model\")     \n",
    "    print(\"Label : \", x_data[:1])        \n",
    "    print(\"predict : \" , sess.run(hypothesis, feed_dict={x:x_data[:1]}))\n",
    "    print(\"학습 소요 시간 : \", finish_time)"
   ]
  },
  {
   "cell_type": "markdown",
   "metadata": {},
   "source": [
    "### Restore and predict"
   ]
  },
  {
   "cell_type": "code",
   "execution_count": 11,
   "metadata": {},
   "outputs": [
    {
     "name": "stdout",
     "output_type": "stream",
     "text": [
      "INFO:tensorflow:Restoring parameters from model/model\n"
     ]
    },
    {
     "data": {
      "text/plain": [
       "array([[ 0.00939523]], dtype=float32)"
      ]
     },
     "execution_count": 11,
     "metadata": {},
     "output_type": "execute_result"
    }
   ],
   "source": [
    "sess = tf.Session()\n",
    "saver = tf.train.Saver()\n",
    "saver.restore(sess, 'model/model')\n",
    "sess.run(hypothesis, feed_dict={x:x_data[:1]})"
   ]
  }
 ],
 "metadata": {
  "kernelspec": {
   "display_name": "Python 3",
   "language": "python",
   "name": "python3"
  },
  "language_info": {
   "codemirror_mode": {
    "name": "ipython",
    "version": 3
   },
   "file_extension": ".py",
   "mimetype": "text/x-python",
   "name": "python",
   "nbconvert_exporter": "python",
   "pygments_lexer": "ipython3",
   "version": "3.5.2"
  }
 },
 "nbformat": 4,
 "nbformat_minor": 2
}
