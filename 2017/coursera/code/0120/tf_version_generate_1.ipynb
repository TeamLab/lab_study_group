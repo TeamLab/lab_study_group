{
 "cells": [
  {
   "cell_type": "code",
   "execution_count": 2,
   "metadata": {
    "collapsed": false
   },
   "outputs": [],
   "source": [
    "import tensorflow as tf\n",
    "import numpy as np\n",
    "import csv\n",
    "import itertools\n",
    "import operator\n",
    "import numpy as np\n",
    "import nltk\n",
    "import sys\n",
    "from datetime import datetime\n",
    "from utils import *\n",
    "import matplotlib.pyplot as plt\n",
    "%matplotlib inline\n",
    "import os\n",
    "import collections\n",
    "from six.moves import cPickle\n",
    "import collections"
   ]
  },
  {
   "cell_type": "code",
   "execution_count": 3,
   "metadata": {
    "collapsed": true
   },
   "outputs": [],
   "source": [
    "save_dir = \"data/\"\n",
    "\n",
    "sentence_start_token = \"START\"\n",
    "sentence_end_token = \"END\"\n",
    "\n",
    "f = open('data/ratings_train.txt', 'r')\n",
    "lines = f.readlines()\n",
    "for i in range(len(lines)):\n",
    "    lines[i] = lines[i].replace(\"/n\",\"\").replace(\"\\n\",\"\")\n",
    "reader = []\n",
    "for line in lines:\n",
    "    line_document = line.split(\"\\t\")[1]\n",
    "    reader.append(line_document)\n",
    "f.close()"
   ]
  },
  {
   "cell_type": "code",
   "execution_count": 4,
   "metadata": {
    "collapsed": true
   },
   "outputs": [],
   "source": [
    "sentences = [\"%s %s %s\" % (sentence_start_token, x, sentence_end_token) for x in reader[:10000]]"
   ]
  },
  {
   "cell_type": "code",
   "execution_count": 5,
   "metadata": {
    "collapsed": true
   },
   "outputs": [],
   "source": [
    "from konlpy.tag import Twitter\n",
    "pos_tagger = Twitter()\n",
    "def tokenize(doc):\n",
    "    return ['/'.join(t) for t in pos_tagger.pos(doc, norm=True, stem=True)]\n",
    "tokenized_sentences = [tokenize(row) for row in sentences]"
   ]
  },
  {
   "cell_type": "code",
   "execution_count": 6,
   "metadata": {
    "collapsed": true
   },
   "outputs": [],
   "source": [
    "Verb_Noun_Adjective_Alpha_in_text = []\n",
    "index = 0\n",
    "for text in tokenized_sentences:\n",
    "    Verb_Noun_Adjective_Alpha_in_text.append([])\n",
    "    for word in text:\n",
    "        parts_of_speech = word.split(\"/\")\n",
    "        if parts_of_speech[1] in [\"Noun\",\"Verb\",\"Adjective\"] :\n",
    "            Verb_Noun_Adjective_Alpha_in_text[index].append(word.split(\"/\")[0])\n",
    "        elif parts_of_speech[1] in [\"Alpha\"] and len(parts_of_speech[0]) ==3 or len(parts_of_speech[0]) ==5:\n",
    "            Verb_Noun_Adjective_Alpha_in_text[index].append(word.split(\"/\")[0])            \n",
    "    index += 1"
   ]
  },
  {
   "cell_type": "code",
   "execution_count": 7,
   "metadata": {
    "collapsed": true
   },
   "outputs": [],
   "source": [
    "Verb_Noun_Adjective_Alpha_in_text_tokens = [t for d in Verb_Noun_Adjective_Alpha_in_text for t in d]"
   ]
  },
  {
   "cell_type": "code",
   "execution_count": 8,
   "metadata": {
    "collapsed": false
   },
   "outputs": [],
   "source": [
    "counter = collections.Counter(Verb_Noun_Adjective_Alpha_in_text_tokens)"
   ]
  },
  {
   "cell_type": "code",
   "execution_count": 9,
   "metadata": {
    "collapsed": false
   },
   "outputs": [],
   "source": [
    "count_pairs = sorted(counter.items(), key=lambda x: -x[1]) "
   ]
  },
  {
   "cell_type": "code",
   "execution_count": 10,
   "metadata": {
    "collapsed": true
   },
   "outputs": [],
   "source": [
    "chars, counts = zip(*count_pairs)"
   ]
  },
  {
   "cell_type": "code",
   "execution_count": 11,
   "metadata": {
    "collapsed": false
   },
   "outputs": [],
   "source": [
    "vocab = dict(zip(chars, range(len(chars))))"
   ]
  },
  {
   "cell_type": "code",
   "execution_count": 12,
   "metadata": {
    "collapsed": false
   },
   "outputs": [],
   "source": [
    "save_name = os.path.join(save_dir, 'chars_vocab.pkl')\n",
    "with open(save_name, 'wb') as fsave:\n",
    "    cPickle.dump((chars, vocab), fsave)    "
   ]
  },
  {
   "cell_type": "code",
   "execution_count": 13,
   "metadata": {
    "collapsed": true
   },
   "outputs": [],
   "source": [
    "load_name = os.path.join(save_dir, 'chars_vocab.pkl')\n",
    "with open(load_name, 'rb') as fload:\n",
    "    chars2, vocab2 = cPickle.load(fload)"
   ]
  },
  {
   "cell_type": "code",
   "execution_count": 14,
   "metadata": {
    "collapsed": false
   },
   "outputs": [],
   "source": [
    "corpus = np.array(list(map(vocab.get,Verb_Noun_Adjective_Alpha_in_text_tokens)))"
   ]
  },
  {
   "cell_type": "code",
   "execution_count": 15,
   "metadata": {
    "collapsed": false
   },
   "outputs": [],
   "source": [
    "save_name = os.path.join(save_dir, 'corpus_data.pkl')\n",
    "with open(save_name, 'wb') as fsave:\n",
    "    cPickle.dump((corpus, Verb_Noun_Adjective_Alpha_in_text_tokens), fsave)"
   ]
  }
 ],
 "metadata": {
  "anaconda-cloud": {},
  "kernelspec": {
   "display_name": "Python [conda env:ml_python]",
   "language": "python",
   "name": "conda-env-ml_python-py"
  },
  "language_info": {
   "codemirror_mode": {
    "name": "ipython",
    "version": 3
   },
   "file_extension": ".py",
   "mimetype": "text/x-python",
   "name": "python",
   "nbconvert_exporter": "python",
   "pygments_lexer": "ipython3",
   "version": "3.5.2"
  }
 },
 "nbformat": 4,
 "nbformat_minor": 1
}
