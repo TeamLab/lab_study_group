{
 "cells": [
  {
   "cell_type": "code",
   "execution_count": 1,
   "metadata": {
    "collapsed": true
   },
   "outputs": [],
   "source": [
    "import tensorflow as tf\n",
    "import numpy as np"
   ]
  },
  {
   "cell_type": "code",
   "execution_count": 2,
   "metadata": {
    "collapsed": true
   },
   "outputs": [],
   "source": [
    "char_rdic = ['h', 'e', 'l', 'o'] #voca\n",
    "char_dic = {w:i for i,w in enumerate(char_rdic)}"
   ]
  },
  {
   "cell_type": "code",
   "execution_count": 3,
   "metadata": {
    "collapsed": false
   },
   "outputs": [
    {
     "data": {
      "text/plain": [
       "{'e': 1, 'h': 0, 'l': 2, 'o': 3}"
      ]
     },
     "execution_count": 3,
     "metadata": {},
     "output_type": "execute_result"
    }
   ],
   "source": [
    "char_dic"
   ]
  },
  {
   "cell_type": "code",
   "execution_count": 4,
   "metadata": {
    "collapsed": false
   },
   "outputs": [],
   "source": [
    "ground_truth = [char_dic[c] for c in 'hello'] #y_data\n",
    "#ground_truth = [char_dic[c] for c in char_rdic]"
   ]
  },
  {
   "cell_type": "code",
   "execution_count": 5,
   "metadata": {
    "collapsed": false
   },
   "outputs": [
    {
     "data": {
      "text/plain": [
       "[0, 1, 2, 2, 3]"
      ]
     },
     "execution_count": 5,
     "metadata": {},
     "output_type": "execute_result"
    }
   ],
   "source": [
    "ground_truth"
   ]
  },
  {
   "cell_type": "code",
   "execution_count": 6,
   "metadata": {
    "collapsed": false
   },
   "outputs": [],
   "source": [
    "# word = 'hell'\n",
    "word = char_rdic[:]"
   ]
  },
  {
   "cell_type": "code",
   "execution_count": 7,
   "metadata": {
    "collapsed": false,
    "scrolled": true
   },
   "outputs": [
    {
     "data": {
      "text/plain": [
       "<tf.Tensor 'one_hot:0' shape=(4, 4) dtype=float32>"
      ]
     },
     "execution_count": 7,
     "metadata": {},
     "output_type": "execute_result"
    }
   ],
   "source": [
    "# x_data = np.zeros((len(word), len(char_dic)), dtype='f')\n",
    "\n",
    "# for i,c in enumerate(word):\n",
    "#     x_data[i][char_dic[c]] = 1\n",
    "\n",
    "# x_data\n",
    "\n",
    "x_data = tf.one_hot(ground_truth[:-1], len(char_dic), \n",
    "                    1.0, 0.0, -1)\n",
    "x_data"
   ]
  },
  {
   "cell_type": "code",
   "execution_count": 8,
   "metadata": {
    "collapsed": true
   },
   "outputs": [],
   "source": [
    "#Configuration\n",
    "\n",
    "char_vocab_size = len(char_dic)\n",
    "rnn_size = char_vocab_size\n",
    "time_step_size = len(word)\n",
    "batch_size = 1"
   ]
  },
  {
   "cell_type": "code",
   "execution_count": 9,
   "metadata": {
    "collapsed": false,
    "scrolled": true
   },
   "outputs": [],
   "source": [
    "# RNN Model\n",
    "\n",
    "rnn_cell = tf.nn.rnn_cell.BasicRNNCell(rnn_size)\n",
    "state = tf.zeros([batch_size, rnn_cell.state_size])\n",
    "X_split = tf.split(0, time_step_size, x_data)\n",
    "outputs, state = tf.nn.rnn(rnn_cell, X_split, state)"
   ]
  },
  {
   "cell_type": "code",
   "execution_count": 10,
   "metadata": {
    "collapsed": false
   },
   "outputs": [
    {
     "name": "stdout",
     "output_type": "stream",
     "text": [
      "[<tf.Tensor 'RNN/BasicRNNCell/Tanh:0' shape=(1, 4) dtype=float32>, <tf.Tensor 'RNN/BasicRNNCell_1/Tanh:0' shape=(1, 4) dtype=float32>, <tf.Tensor 'RNN/BasicRNNCell_2/Tanh:0' shape=(1, 4) dtype=float32>, <tf.Tensor 'RNN/BasicRNNCell_3/Tanh:0' shape=(1, 4) dtype=float32>]\n",
      "Tensor(\"RNN/BasicRNNCell_3/Tanh:0\", shape=(1, 4), dtype=float32)\n"
     ]
    }
   ],
   "source": [
    "print(outputs)\n",
    "print(state)"
   ]
  },
  {
   "cell_type": "code",
   "execution_count": 11,
   "metadata": {
    "collapsed": false
   },
   "outputs": [],
   "source": [
    "logits = tf.reshape(tf.concat(1, outputs), [-1, rnn_size])\n",
    "targets = tf.reshape(ground_truth[1:], [-1])\n",
    "weights = tf.ones(time_step_size*batch_size)"
   ]
  },
  {
   "cell_type": "code",
   "execution_count": 14,
   "metadata": {
    "collapsed": false
   },
   "outputs": [],
   "source": [
    "loss = tf.nn.seq2seq.sequence_loss_by_example(\n",
    "        [logits], [targets], [weights])\n",
    "cost = tf.reduce_sum(loss) / batch_size\n",
    "train_op = tf.train.AdamOptimizer(0.01, 0.9).minimize(cost)"
   ]
  },
  {
   "cell_type": "code",
   "execution_count": 15,
   "metadata": {
    "collapsed": false
   },
   "outputs": [
    {
     "name": "stdout",
     "output_type": "stream",
     "text": [
      "[3 0 2 1] ['o', 'h', 'l', 'e']\n",
      "[3 0 2 1] ['o', 'h', 'l', 'e']\n",
      "[3 0 2 1] ['o', 'h', 'l', 'e']\n",
      "[3 0 2 1] ['o', 'h', 'l', 'e']\n",
      "[3 0 2 1] ['o', 'h', 'l', 'e']\n",
      "[3 0 2 1] ['o', 'h', 'l', 'e']\n",
      "[3 0 2 1] ['o', 'h', 'l', 'e']\n",
      "[3 0 2 1] ['o', 'h', 'l', 'e']\n",
      "[3 0 2 1] ['o', 'h', 'l', 'e']\n",
      "[3 0 2 1] ['o', 'h', 'l', 'e']\n",
      "[3 0 2 1] ['o', 'h', 'l', 'e']\n",
      "[3 0 2 1] ['o', 'h', 'l', 'e']\n",
      "[3 0 2 1] ['o', 'h', 'l', 'e']\n",
      "[3 0 2 1] ['o', 'h', 'l', 'e']\n",
      "[3 0 2 1] ['o', 'h', 'l', 'e']\n",
      "[3 0 2 1] ['o', 'h', 'l', 'e']\n",
      "[3 0 2 3] ['o', 'h', 'l', 'o']\n",
      "[3 2 2 3] ['o', 'l', 'l', 'o']\n",
      "[1 2 2 3] ['e', 'l', 'l', 'o']\n",
      "[1 2 2 3] ['e', 'l', 'l', 'o']\n",
      "[1 2 2 3] ['e', 'l', 'l', 'o']\n",
      "[1 2 2 3] ['e', 'l', 'l', 'o']\n",
      "[1 2 2 3] ['e', 'l', 'l', 'o']\n",
      "[1 2 2 3] ['e', 'l', 'l', 'o']\n",
      "[1 2 2 3] ['e', 'l', 'l', 'o']\n",
      "[1 2 2 3] ['e', 'l', 'l', 'o']\n",
      "[1 2 2 3] ['e', 'l', 'l', 'o']\n",
      "[1 2 2 3] ['e', 'l', 'l', 'o']\n",
      "[1 2 2 3] ['e', 'l', 'l', 'o']\n",
      "[1 2 2 3] ['e', 'l', 'l', 'o']\n",
      "[1 2 2 3] ['e', 'l', 'l', 'o']\n",
      "[1 2 2 3] ['e', 'l', 'l', 'o']\n",
      "[1 2 2 3] ['e', 'l', 'l', 'o']\n",
      "[1 2 2 3] ['e', 'l', 'l', 'o']\n",
      "[1 2 2 3] ['e', 'l', 'l', 'o']\n",
      "[1 2 2 3] ['e', 'l', 'l', 'o']\n",
      "[1 2 2 3] ['e', 'l', 'l', 'o']\n",
      "[1 2 2 3] ['e', 'l', 'l', 'o']\n",
      "[1 2 2 3] ['e', 'l', 'l', 'o']\n",
      "[1 2 2 3] ['e', 'l', 'l', 'o']\n",
      "[1 2 2 3] ['e', 'l', 'l', 'o']\n",
      "[1 2 2 3] ['e', 'l', 'l', 'o']\n",
      "[1 2 2 3] ['e', 'l', 'l', 'o']\n",
      "[1 2 2 3] ['e', 'l', 'l', 'o']\n",
      "[1 2 2 3] ['e', 'l', 'l', 'o']\n",
      "[1 2 2 3] ['e', 'l', 'l', 'o']\n",
      "[1 2 2 3] ['e', 'l', 'l', 'o']\n",
      "[1 2 2 3] ['e', 'l', 'l', 'o']\n",
      "[1 2 2 3] ['e', 'l', 'l', 'o']\n",
      "[1 2 2 3] ['e', 'l', 'l', 'o']\n",
      "[1 2 2 3] ['e', 'l', 'l', 'o']\n",
      "[1 2 2 3] ['e', 'l', 'l', 'o']\n",
      "[1 2 2 3] ['e', 'l', 'l', 'o']\n",
      "[1 2 2 3] ['e', 'l', 'l', 'o']\n",
      "[1 2 2 3] ['e', 'l', 'l', 'o']\n",
      "[1 2 2 3] ['e', 'l', 'l', 'o']\n",
      "[1 2 2 3] ['e', 'l', 'l', 'o']\n",
      "[1 2 2 3] ['e', 'l', 'l', 'o']\n",
      "[1 2 2 3] ['e', 'l', 'l', 'o']\n",
      "[1 2 2 3] ['e', 'l', 'l', 'o']\n",
      "[1 2 2 3] ['e', 'l', 'l', 'o']\n",
      "[1 2 2 3] ['e', 'l', 'l', 'o']\n",
      "[1 2 2 3] ['e', 'l', 'l', 'o']\n",
      "[1 2 2 3] ['e', 'l', 'l', 'o']\n",
      "[1 2 2 3] ['e', 'l', 'l', 'o']\n",
      "[1 2 2 3] ['e', 'l', 'l', 'o']\n",
      "[1 2 2 3] ['e', 'l', 'l', 'o']\n",
      "[1 2 2 3] ['e', 'l', 'l', 'o']\n",
      "[1 2 2 3] ['e', 'l', 'l', 'o']\n",
      "[1 2 2 3] ['e', 'l', 'l', 'o']\n",
      "[1 2 2 3] ['e', 'l', 'l', 'o']\n",
      "[1 2 2 3] ['e', 'l', 'l', 'o']\n",
      "[1 2 2 3] ['e', 'l', 'l', 'o']\n",
      "[1 2 2 3] ['e', 'l', 'l', 'o']\n",
      "[1 2 2 3] ['e', 'l', 'l', 'o']\n",
      "[1 2 2 3] ['e', 'l', 'l', 'o']\n",
      "[1 2 2 3] ['e', 'l', 'l', 'o']\n",
      "[1 2 2 3] ['e', 'l', 'l', 'o']\n",
      "[1 2 2 3] ['e', 'l', 'l', 'o']\n",
      "[1 2 2 3] ['e', 'l', 'l', 'o']\n",
      "[1 2 2 3] ['e', 'l', 'l', 'o']\n",
      "[1 2 2 3] ['e', 'l', 'l', 'o']\n",
      "[1 2 2 3] ['e', 'l', 'l', 'o']\n",
      "[1 2 2 3] ['e', 'l', 'l', 'o']\n",
      "[1 2 2 3] ['e', 'l', 'l', 'o']\n",
      "[1 2 2 3] ['e', 'l', 'l', 'o']\n",
      "[1 2 2 3] ['e', 'l', 'l', 'o']\n",
      "[1 2 2 3] ['e', 'l', 'l', 'o']\n",
      "[1 2 2 3] ['e', 'l', 'l', 'o']\n",
      "[1 2 2 3] ['e', 'l', 'l', 'o']\n",
      "[1 2 2 3] ['e', 'l', 'l', 'o']\n",
      "[1 2 2 3] ['e', 'l', 'l', 'o']\n",
      "[1 2 2 3] ['e', 'l', 'l', 'o']\n",
      "[1 2 2 3] ['e', 'l', 'l', 'o']\n",
      "[1 2 2 3] ['e', 'l', 'l', 'o']\n",
      "[1 2 2 3] ['e', 'l', 'l', 'o']\n",
      "[1 2 2 3] ['e', 'l', 'l', 'o']\n",
      "[1 2 2 3] ['e', 'l', 'l', 'o']\n",
      "[1 2 2 3] ['e', 'l', 'l', 'o']\n",
      "[1 2 2 3] ['e', 'l', 'l', 'o']\n"
     ]
    }
   ],
   "source": [
    "#Launch the graph in session\n",
    "\n",
    "with tf.Session() as sess:\n",
    "    init = tf.global_variables_initializer()\n",
    "    sess.run(init)\n",
    "    for i in range(100):\n",
    "        sess.run(train_op)\n",
    "        result = sess.run(tf.argmax(logits, 1))\n",
    "        print(result, [char_rdic[t] for t in result])"
   ]
  },
  {
   "cell_type": "code",
   "execution_count": null,
   "metadata": {
    "collapsed": true
   },
   "outputs": [],
   "source": []
  }
 ],
 "metadata": {
  "kernelspec": {
   "display_name": "Python 3",
   "language": "python",
   "name": "python3"
  },
  "language_info": {
   "codemirror_mode": {
    "name": "ipython",
    "version": 3
   },
   "file_extension": ".py",
   "mimetype": "text/x-python",
   "name": "python",
   "nbconvert_exporter": "python",
   "pygments_lexer": "ipython3",
   "version": "3.5.2"
  }
 },
 "nbformat": 4,
 "nbformat_minor": 0
}
