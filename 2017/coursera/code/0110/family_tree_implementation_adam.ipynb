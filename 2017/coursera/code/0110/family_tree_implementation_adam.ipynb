{
 "cells": [
  {
   "cell_type": "markdown",
   "metadata": {},
   "source": [
    "### Learning Internal Representation by Error Propagation\n",
    "\n",
    "- A example implementation of the following classic paper that changed the history of deep learning\n",
    ">Rumelhart, D. E., Hinton, G. E., & Williams, R. J. (1985). [Learning internal representations by error propagation](http://www.cs.toronto.edu/~fritz/absps/pdp8.pdf) (No. ICS-8506). CALIFORNIA UNIV SAN DIEGO LA JOLLA INST FOR COGNITIVE SCIENCE.\n",
    "\n",
    "#### Related Paper\n",
    "- Varona-Moya, S., & Cobos, P. L. (2012, September). [Analogical inferences in the family trees task: a review. In International Conference on Artificial Neural Networks (pp. 221-228)](https://www.researchgate.net/publication/229164083_Analogical_Inferences_in_the_Family_Trees_Task_A_Review). Springer Berlin Heidelberg.\n",
    "- Paccanaro, A., & Hinton, G. E. (2001). [Learning distributed representations of concepts using linear relational embedding. IEEE Transactions on Knowledge and Data Engineering](https://www.researchgate.net/publication/3296950_Learning_distributed_representations_of_concepts_using_Linear_Relational_Embedding), 13(2), 232-244.\n",
    "\n",
    "#### Network structure\n",
    "\n",
    "![Image of the Network](https://www.researchgate.net/profile/Sergio_Varona-Moya/publication/229164083/figure/fig2/AS:300722680811523@1448709282536/Fig-2-Architecture-of-the-perceptron.png)"
   ]
  },
  {
   "cell_type": "markdown",
   "metadata": {},
   "source": [
    "#### Data Creation"
   ]
  },
  {
   "cell_type": "code",
   "execution_count": 1,
   "metadata": {
    "collapsed": false
   },
   "outputs": [],
   "source": [
    "person_1_input = [[1.0 if target == person else 0.0 for target in range(24) ] for person in range(24)]\n",
    "person_2_output = person_1_input[:] # Data copy - Person 1 is the same data as person 2.\n",
    "\n",
    "relationship_input = [[1.0 if target == relationship else 0.0 for target in range(12) ] for relationship in range(12)] "
   ]
  },
  {
   "cell_type": "markdown",
   "metadata": {},
   "source": [
    "#### Relationship Representation"
   ]
  },
  {
   "cell_type": "code",
   "execution_count": 2,
   "metadata": {
    "collapsed": false
   },
   "outputs": [],
   "source": [
    "# (colin has-father james)\n",
    "# (colin has-mother victoria)\n",
    "# (james has-wife victoria) \n",
    "# (charlotte has-brother colin)\n",
    "# (victoria has-brother arthur)\n",
    "# (charlotte has-uncle arthur) \n",
    "# 아래의 리스트는 가족관계도에 있는 관계를 위의 예시와 같은 방법으로 나타낸 것입니다.\n",
    "# [input_person, relationship, output_person]\n",
    "\n",
    "triple_relationship = [[0, 3, 1], [0, 4, 3], [0, 5, 4],\n",
    "                       [1, 2, 0], [1, 4, 3], [1, 5, 4],\n",
    "                       [2, 2, 3],\n",
    "                       [3, 3, 2], [3, 0, 0], [3, 1, 1], [3, 9, 4], [3, 10, 10], [3, 11, 11],\n",
    "                       [4, 2, 5], [4, 0, 0], [4, 1, 1], [4, 5, 3], [4, 4, 10], [4, 5, 11],\n",
    "                       [5, 3, 4], [5, 0, 6], [5, 1, 7], [5, 9, 9], [5, 4, 10], [5, 5, 11],\n",
    "                       [6, 3, 7], [6, 4, 5], [6, 5, 8],\n",
    "                       [7, 2, 6], [7, 4, 5], [7, 5, 8],\n",
    "                       [8, 2, 9], [8, 0, 6], [8, 1, 7], [8, 8, 5], [8, 10, 10], [8, 11, 11],\n",
    "                       [9, 3, 8],\n",
    "                       [10, 0, 5], [10, 1, 4], [10, 9, 11], [10, 6, 3], [10, 7, 8],\n",
    "                       [11, 0, 5], [11, 1, 4], [11, 8, 10], [11, 6, 3], [11, 7, 8],\n",
    "                       [12, 3, 13], [12, 4, 15], [12, 5, 16],\n",
    "                       [13, 2, 12], [13, 4, 15], [13, 5, 16],\n",
    "                       [14, 2, 15],\n",
    "                       [15, 3, 14], [15, 0, 12], [15, 1, 13], [15, 9, 16], [15, 10, 22], [15, 11, 23],\n",
    "                       [16, 2, 17], [16, 0, 12], [16, 1, 15], [16, 5, 15], [16, 4, 22], [16, 5, 23],\n",
    "                       [17, 3, 16], [17, 0, 18], [17, 1, 19], [17, 9, 21], [17, 4, 22], [17, 5, 23],\n",
    "                       [18, 3, 19], [18, 4, 17], [18, 5, 20],\n",
    "                       [19, 2, 18], [19, 4, 17], [19, 5, 20],\n",
    "                       [20, 2, 21], [20, 0, 18], [20, 1, 19], [20, 8, 17], [20, 10, 22], [8, 11, 23],\n",
    "                       [21, 3, 20],\n",
    "                       [22, 0, 17], [22, 1, 16], [22, 9, 23], [22, 6, 15], [22, 7, 20],\n",
    "                       [23, 0, 17], [23, 1, 16], [23, 8, 22], [23, 6, 15], [23, 7, 20]]"
   ]
  },
  {
   "cell_type": "markdown",
   "metadata": {},
   "source": [
    "#### Code"
   ]
  },
  {
   "cell_type": "code",
   "execution_count": 3,
   "metadata": {
    "collapsed": true
   },
   "outputs": [],
   "source": [
    "import tensorflow as tf\n",
    "import numpy as np"
   ]
  },
  {
   "cell_type": "code",
   "execution_count": 4,
   "metadata": {
    "collapsed": true
   },
   "outputs": [],
   "source": [
    "x1_data = np.array([person_1_input[data[0]] for  data in triple_relationship],dtype=np.float32)\n",
    "x2_data = np.array([relationship_input[data[1]] for  data in triple_relationship],dtype=np.float32)\n",
    "y_data = np.array([person_2_output[data[2]] for  data in triple_relationship],dtype=np.float32)"
   ]
  },
  {
   "cell_type": "code",
   "execution_count": 5,
   "metadata": {
    "collapsed": false
   },
   "outputs": [],
   "source": [
    "X1 = tf.placeholder(tf.float32, [None, 24])\n",
    "X2 = tf.placeholder(tf.float32, [None, 12])\n",
    "Y = tf.placeholder(tf.float32, [None, 24])"
   ]
  },
  {
   "cell_type": "code",
   "execution_count": 81,
   "metadata": {
    "collapsed": false
   },
   "outputs": [
    {
     "name": "stdout",
     "output_type": "stream",
     "text": [
      "0 3.15279\n",
      "100 2.87883\n",
      "200 2.50568\n",
      "300 2.37889\n",
      "400 2.18458\n",
      "500 1.93348\n",
      "600 1.35189\n",
      "700 0.927482\n",
      "800 0.729025\n",
      "900 0.598082\n"
     ]
    }
   ],
   "source": [
    "# Weights and bias\n",
    "W11 = tf.Variable(tf.zeros([24, 6]))\n",
    "W12 = tf.Variable(tf.zeros([12, 6]))\n",
    "W21 = tf.Variable(tf.zeros([6, 12]))\n",
    "W22 = tf.Variable(tf.zeros([6, 12]))\n",
    "W3 = tf.Variable(tf.zeros([12, 24]))\n",
    "\n",
    "b11 = tf.Variable(tf.zeros([6]))\n",
    "b12 = tf.Variable(tf.zeros([6]))\n",
    "b2 = tf.Variable(tf.zeros([12]))\n",
    "b3 = tf.Variable(tf.zeros([24]))\n",
    "\n",
    "# Hypothesis\n",
    "L11 = tf.sigmoid(tf.matmul(X1, W11) + b11) # 24 by 6 mat\n",
    "L12 = tf.sigmoid(tf.matmul(X2, W12) + b12) # 12 by 6 mat\n",
    "\n",
    "# L2 = tf.sigmoid(tf.matmul(L11, W21) + tf.matmul(L12, W22) + b2) # Dimensions must be equal, but are 24 and 12 for 'add_22' (op: 'Add') with input shapes: [24,12], [12,12].\n",
    "L2 = tf.sigmoid(tf.matmul(L11, W21) + tf.matmul(L12, W22) + b2)\n",
    "hypothesis = tf.nn.softmax(tf.matmul(L2, W3) + b3)\n",
    "\n",
    "# Minimize cost.\n",
    "a = tf.Variable(0.01)\n",
    "# cost = tf.reduce_mean(hypothesis, Y)\n",
    "cost = tf.reduce_mean(-tf.reduce_sum(Y*tf.log(hypothesis), reduction_indices=1))\n",
    "\n",
    "train_step = tf.train.AdamOptimizer(a).minimize(cost)\n",
    "\n",
    "# Initializa all variables.\n",
    "init = tf.global_variables_initializer()\n",
    "sess = tf.Session()\n",
    "sess.run(init)\n",
    "\n",
    "# Loop\n",
    "for i in range(1000):\n",
    "    sess.run(train_step, feed_dict={\n",
    "            X1: x1_data, \n",
    "            X2: x2_data,\n",
    "            Y:y_data}\n",
    "            )\n",
    "    if i % 100 == 0:\n",
    "        print(\n",
    "                i, \n",
    "                sess.run(cost, feed_dict={X1:x1_data, X2:x2_data, Y:y_data})\n",
    "        )"
   ]
  },
  {
   "cell_type": "code",
   "execution_count": 82,
   "metadata": {
    "collapsed": false
   },
   "outputs": [
    {
     "name": "stdout",
     "output_type": "stream",
     "text": [
      "0.916667\n",
      "[ 1  3  4  0  3  4  3  3  0  1  4 10 11  5  0  1 11 10 11  4  6  7  9 10 11\n",
      "  7  5  8  6  5  8  9  6  7  5 10 11 20  5  4 11  3  8  5  4 10  3  8 13 15\n",
      " 16 12 15 16 15 16 12 13 16 22 23 17 12 12 10 22 10 16 18 19 21 22 23 19 17\n",
      " 20 18 17 20 21 18 19 17 22 11 20 17 16 23 15 20 17 16 22 15 20]\n",
      "[ 1  3  4  0  3  4  3  2  0  1  4 10 11  5  0  1  3 10 11  4  6  7  9 10 11\n",
      "  7  5  8  6  5  8  9  6  7  5 10 11  8  5  4 11  3  8  5  4 10  3  8 13 15\n",
      " 16 12 15 16 15 14 12 13 16 22 23 17 12 15 15 22 23 16 18 19 21 22 23 19 17\n",
      " 20 18 17 20 21 18 19 17 22 23 20 17 16 23 15 20 17 16 22 15 20]\n"
     ]
    }
   ],
   "source": [
    "correct_prediction = tf.equal(tf.argmax(hypothesis,1), tf.argmax(Y,1))\n",
    "accuracy = tf.reduce_mean(tf.cast(correct_prediction, tf.float32))\n",
    "\n",
    "\n",
    "print(sess.run(accuracy, feed_dict={X1: x1_data, X2: x2_data, Y:y_data}))\n",
    "print(sess.run(tf.argmax(hypothesis,1), feed_dict={X1: x1_data, X2: x2_data, Y:y_data}))\n",
    "print(sess.run(tf.argmax(Y,1), feed_dict={X1: x1_data, X2: x2_data, Y:y_data}))"
   ]
  },
  {
   "cell_type": "code",
   "execution_count": 93,
   "metadata": {
    "collapsed": false
   },
   "outputs": [
    {
     "name": "stdout",
     "output_type": "stream",
     "text": [
      "\n"
     ]
    },
    {
     "data": {
      "text/plain": [
       "(6, 24)"
      ]
     },
     "execution_count": 93,
     "metadata": {},
     "output_type": "execute_result"
    }
   ],
   "source": [
    "print()\n",
    "data = sess.run(W11, feed_dict={X1: x1_data, X2: x2_data, Y:y_data})\n",
    "data = data.transpose()\n",
    "data.shape"
   ]
  },
  {
   "cell_type": "code",
   "execution_count": 94,
   "metadata": {
    "collapsed": false,
    "scrolled": true
   },
   "outputs": [
    {
     "data": {
      "image/png": "[encoded data removed]",
      "text/plain": [
       "<matplotlib.figure.Figure at 0x7f8f2c6ee358>"
      ]
     },
     "metadata": {},
     "output_type": "display_data"
    }
   ],
   "source": [
    "import matplotlib.pyplot as plt\n",
    "\n",
    "import numpy as np\n",
    "%matplotlib inline\n",
    "\n",
    "for index, values in enumerate(data):\n",
    "    plt.subplot(2, 4, index + 1)\n",
    "    values.shape = (2,12)\n",
    "    plt.axis('off')\n",
    "    plt.imshow(values, cmap=plt.cm.gray_r, interpolation='nearest')\n",
    "    plt.title('Case %i' % index)"
   ]
  },
  {
   "cell_type": "code",
   "execution_count": null,
   "metadata": {
    "collapsed": true
   },
   "outputs": [],
   "source": []
  }
 ],
 "metadata": {
  "anaconda-cloud": {},
  "kernelspec": {
   "display_name": "Python [conda env:coursera]",
   "language": "python",
   "name": "conda-env-coursera-py"
  },
  "language_info": {
   "codemirror_mode": {
    "name": "ipython",
    "version": 3
   },
   "file_extension": ".py",
   "mimetype": "text/x-python",
   "name": "python",
   "nbconvert_exporter": "python",
   "pygments_lexer": "ipython3",
   "version": "3.5.2"
  }
 },
 "nbformat": 4,
 "nbformat_minor": 2
}
