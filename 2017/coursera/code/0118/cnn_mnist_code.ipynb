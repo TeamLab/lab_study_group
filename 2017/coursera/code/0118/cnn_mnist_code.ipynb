{
 "cells": [
  {
   "cell_type": "code",
   "execution_count": 1,
   "metadata": {
    "collapsed": false
   },
   "outputs": [],
   "source": [
    "import tensorflow as tf\n",
    "import numpy as np\n",
    "from tensorflow.examples.tutorials.mnist import input_data\n",
    "from PIL import Image, ImageFilter"
   ]
  },
  {
   "cell_type": "code",
   "execution_count": 2,
   "metadata": {
    "collapsed": false
   },
   "outputs": [
    {
     "name": "stdout",
     "output_type": "stream",
     "text": [
      "Extracting MNIST_data/train-images-idx3-ubyte.gz\n",
      "Extracting MNIST_data/train-labels-idx1-ubyte.gz\n",
      "Extracting MNIST_data/t10k-images-idx3-ubyte.gz\n",
      "Extracting MNIST_data/t10k-labels-idx1-ubyte.gz\n",
      "load data\n"
     ]
    }
   ],
   "source": [
    "# load data\n",
    "mnist = input_data.read_data_sets(\"MNIST_data/\", one_hot=True)\n",
    "print('load data')"
   ]
  },
  {
   "cell_type": "code",
   "execution_count": 3,
   "metadata": {
    "collapsed": false
   },
   "outputs": [
    {
     "data": {
      "text/plain": [
       "(784,)"
      ]
     },
     "execution_count": 3,
     "metadata": {},
     "output_type": "execute_result"
    }
   ],
   "source": [
    "mnist.test.images[0].shape"
   ]
  },
  {
   "cell_type": "code",
   "execution_count": null,
   "metadata": {
    "collapsed": true
   },
   "outputs": [],
   "source": [
    "x = tf.placeholder(tf.float32, [None, 784])\n",
    "x_image = tf.reshape(x, [-1,28,28,1])\n",
    "\n",
    "#1layer\n",
    "w_conv1 = tf.Variable(tf.truncated_normal([5,5,1,32],stddev=0.1))\n",
    "\n",
    "conv1 = tf.nn.relu(tf.nn.conv2d(x_image, w_conv1, strides=[1, 1, 1, 1], padding='SAME'))\n",
    "b_conv1 = tf.Variable(tf.constant(0.1, shape=[32]))\n",
    "\n",
    "relu_conv1 = tf.nn.relu(conv1 + b_conv1)\n",
    "pool1 = tf.nn.max_pool(relu_conv1, ksize=[1,2,2,1], strides=[1,2,2,1], padding='SAME')     #output size 14\n",
    "\n",
    "\n",
    "#2layer\n",
    "w_conv2 = tf.Variable(tf.truncated_normal([5,5,32,64],stddev=0.1))\n",
    "\n",
    "conv2 = tf.nn.relu(tf.nn.conv2d(pool1, w_conv2, strides=[1, 2, 2, 1], padding='SAME'))\n",
    "b_conv2 = tf.Variable(tf.constant(0.1, shape=[64]))\n",
    "\n",
    "relu_conv2 = tf.nn.relu(conv2 + b_conv2)\n",
    "pool2 = tf.nn.max_pool(relu_conv1, ksize=[1,2,2,1], strides=[1,4,4,1], padding='SAME')    #output size 7\n",
    "\n",
    "\n",
    "#fully connected layer\n",
    "pool2_flat = tf.reshape(pool2, [-1, 7*7*32])   #1차원 행렬로 변환\n",
    "\n",
    "w3 = tf.Variable(tf.truncated_normal([7*7*32, 1024]))\n",
    "b3 = tf.Variable(tf.constant(0.1, shape=[1024]))\n",
    "\n",
    "relu3 = tf.nn.relu(tf.matmul(pool2_flat, w3) + b3)\n",
    "\n",
    "keep_prob = tf.placeholder(tf.float32)\n",
    "drop3 = tf.nn.dropout(relu3, keep_prob)\n",
    "\n",
    "\n",
    "\n",
    "w0 = tf.Variable(tf.zeros([1024, 10]))    #0~9를 찾는거니까 제일 마지막은 10\n",
    "b0 = tf.Variable(tf.zeros([10]))\n",
    "k = tf.matmul(drop3, w0) + b0\n",
    "\n",
    "p = tf.nn.softmax(k)\n",
    "y = tf.placeholder(tf.float32, [None, 10])\n",
    "\n",
    "loss = tf.reduce_mean(tf.nn.softmax_cross_entropy_with_logits(k,y)) \n",
    "train_step = tf.train.GradientDescentOptimizer(0.01).minimize(loss)\n",
    "\n",
    "sess = tf.InteractiveSession()\n",
    "sess.run(tf.global_variables_initializer())\n",
    "\n",
    "for i in range(1000):\n",
    "    batch_xs, batch_ys = mnist.train.next_batch(50)\n",
    "    sess.run(train_step, feed_dict={x: batch_xs, \n",
    "                                    y: batch_ys, \n",
    "                                    keep_prob: 0.5})\n",
    "#     print(batch_ys[0].shape)\n",
    "\n",
    "    "
   ]
  },
  {
   "cell_type": "code",
   "execution_count": 18,
   "metadata": {
    "collapsed": false
   },
   "outputs": [
    {
     "name": "stdout",
     "output_type": "stream",
     "text": [
      "0.951\n"
     ]
    }
   ],
   "source": [
    "correct_prediction = tf.equal(tf.argmax(p,1), tf.argmax(y,1))\n",
    "accuracy = tf.reduce_mean(tf.cast(correct_prediction, tf.float32))\n",
    "print(sess.run(accuracy, feed_dict={x: mnist.test.images, y: mnist.test.labels,\n",
    "                                   keep_prob: 1}))"
   ]
  }
 ],
 "metadata": {
  "anaconda-cloud": {},
  "kernelspec": {
   "display_name": "Python [conda env:ml_python]",
   "language": "python",
   "name": "conda-env-ml_python-py"
  },
  "language_info": {
   "codemirror_mode": {
    "name": "ipython",
    "version": 3
   },
   "file_extension": ".py",
   "mimetype": "text/x-python",
   "name": "python",
   "nbconvert_exporter": "python",
   "pygments_lexer": "ipython3",
   "version": "3.5.2"
  }
 },
 "nbformat": 4,
 "nbformat_minor": 2
}
