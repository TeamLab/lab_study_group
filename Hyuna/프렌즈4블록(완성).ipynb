{
 "cells": [
  {
   "cell_type": "code",
   "execution_count": 22,
   "metadata": {
    "collapsed": false,
    "deletable": true,
    "editable": true
   },
   "outputs": [],
   "source": [
    "def make_board(board):\n",
    "    new_board = []\n",
    "    for i in board:\n",
    "        i = i[i.index(\"“\")+1:i.index(\"”\")]\n",
    "        new_board.append(i)\n",
    "    return new_board\n",
    "\n",
    "def make_scanner(board):\n",
    "    scanner = []\n",
    "    ingredient = []\n",
    "    for i in board:\n",
    "        for j in i:\n",
    "            ingredient.append(j)\n",
    "    ingredient = set(ingredient)\n",
    "    for i in ingredient:\n",
    "        scanner.append([[i,i],[i,i]])\n",
    "    return scanner\n",
    "\n",
    "def make_location(scanner,new_board):\n",
    "    location = []\n",
    "    for i in range(n):\n",
    "        for j in range(m):\n",
    "            if i+1<=m and j+1<=n :\n",
    "                try:\n",
    "                    for k in scanner:\n",
    "                        if k == [[new_board[i][j],new_board[i][j+1]],[new_board[i+1][j],new_board[i+1][j+1]]]:\n",
    "                            location.append((i,j))\n",
    "                            location.append((i,j+1))\n",
    "                            location.append((i+1,j))\n",
    "                            location.append((i+1,j+1))\n",
    "                except:\n",
    "                    IndexError\n",
    "    location = [list(i) for i in set(location)]\n",
    "    return location\n",
    "\n",
    "\n",
    "def delete_block(new_board,location):\n",
    "    for i,j in location:\n",
    "        new_board[i][j] = \"0\"\n",
    "    \n",
    "    zipped = [list(i) for i in list(zip(*new_board))]\n",
    "    zero_range = []\n",
    "    for k in range(len(zipped)):\n",
    "        if \"0\" in zipped[k]:\n",
    "            zero_range.append([k,zipped[k].index(\"0\"),zipped[k].count(\"0\")])\n",
    "        else:\n",
    "            pass\n",
    "    for i in zero_range:\n",
    "        zipped[i[0]] = zipped[i[0]][i[1]:i[1]+i[2]] + zipped[i[0]][:i[1]]+ zipped[i[0]][i[1]+i[2]:]\n",
    "\n",
    "    new_board = [list(i) for i in list(zip(*zipped))]\n",
    "    return new_board\n",
    "\n",
    "def main():\n",
    "    new_board = make_board(board)\n",
    "    scanner = make_scanner(new_board)\n",
    "    location = make_location(scanner,new_board)\n",
    "    score = []\n",
    "    while len(location) != 0:\n",
    "        new_board = delete_block(new_board,location)\n",
    "        score.append(len(location))\n",
    "        del[location[:]]\n",
    "        location = make_location(scanner,new_board)\n",
    "    return(sum(score))"
   ]
  },
  {
   "cell_type": "code",
   "execution_count": 25,
   "metadata": {
    "collapsed": false,
    "deletable": true,
    "editable": true
   },
   "outputs": [
    {
     "name": "stdout",
     "output_type": "stream",
     "text": [
      "4 5\n",
      "[“CCBDE”, “AAADE”, “AAABF”, “CCBBF”]\n",
      "14\n"
     ]
    }
   ],
   "source": [
    "m,n  = map(int,input().split( ))\n",
    "board = [list(i) for i in map(str,input().split(\",\"))]\n",
    "print(main())"
   ]
  },
  {
   "cell_type": "code",
   "execution_count": 24,
   "metadata": {
    "collapsed": false
   },
   "outputs": [
    {
     "name": "stdout",
     "output_type": "stream",
     "text": [
      "6 6\n",
      "[“TTTANT”, “RRFACC”, “RRRFCC”, “TRRRAA”, “TTMMMF”, “TMMTTJ”]\n",
      "15\n"
     ]
    }
   ],
   "source": [
    "m,n  = map(int,input().split( ))\n",
    "board = [list(i) for i in map(str,input().split(\",\"))]\n",
    "print(main())"
   ]
  }
 ],
 "metadata": {
  "kernelspec": {
   "display_name": "Python 3",
   "language": "python",
   "name": "python3"
  },
  "language_info": {
   "codemirror_mode": {
    "name": "ipython",
    "version": 3
   },
   "file_extension": ".py",
   "mimetype": "text/x-python",
   "name": "python",
   "nbconvert_exporter": "python",
   "pygments_lexer": "ipython3",
   "version": "3.6.0"
  }
 },
 "nbformat": 4,
 "nbformat_minor": 2
}
